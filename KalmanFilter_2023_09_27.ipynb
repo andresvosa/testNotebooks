{
  "nbformat": 4,
  "nbformat_minor": 0,
  "metadata": {
    "colab": {
      "provenance": [],
      "toc_visible": true,
      "authorship_tag": "ABX9TyPJytiZJSGaH79KoGXpXz/A",
      "include_colab_link": true
    },
    "kernelspec": {
      "name": "python3",
      "display_name": "Python 3"
    },
    "language_info": {
      "name": "python"
    }
  },
  "cells": [
    {
      "cell_type": "markdown",
      "metadata": {
        "id": "view-in-github",
        "colab_type": "text"
      },
      "source": [
        "<a href=\"https://colab.research.google.com/github/andresvosa/testNotebooks/blob/main/KalmanFilter_2023_09_27.ipynb\" target=\"_parent\"><img src=\"https://colab.research.google.com/assets/colab-badge.svg\" alt=\"Open In Colab\"/></a>"
      ]
    },
    {
      "cell_type": "code",
      "execution_count": 1,
      "metadata": {
        "id": "5GqRQxYJt2Ao"
      },
      "outputs": [],
      "source": [
        "import pandas as pd\n"
      ]
    },
    {
      "cell_type": "code",
      "source": [
        "class KalmanFilter:\n",
        "\n",
        "  def __init__(self, est_val, meas_val, est_err, meas_err, ):\n",
        "    self.initial_val_estimated = est_val\n",
        "    self.est_val = self.initial_val_estimated\n",
        "    self.initial_estimation_err = est_err\n",
        "    self.est_err = self.initial_estimation_err\n",
        "    self.initial_measure_err = meas_err\n",
        "    self.meas_err = self.initial_measure_err\n",
        "    self.kg, self.est_val, self.est_err = self.calculate_next_state(meas_val, est_err, meas_err)\n",
        "\n",
        "  def calculate_next_state(self, meas_val, est_err = None, meas_err = None, ):\n",
        "    if est_err is None and meas_err is None:\n",
        "      self.kg = self.est_err / (self.est_err + self.meas_err)\n",
        "      self.est_err = (1 - self.kg) * (self.est_err)\n",
        "      self.est_val = self.est_val + self.kg * (meas_val - self.est_val)\n",
        "      return\n",
        "    else:\n",
        "      kg = est_err / (est_err + meas_err)\n",
        "      est_err = (1 - kg) * (est_err)\n",
        "      est_val = self.est_val + kg * (meas_val - self.est_val)\n",
        "      return kg, est_val, est_err\n",
        "\n"
      ],
      "metadata": {
        "id": "olo_IFDI7CTV"
      },
      "execution_count": 2,
      "outputs": []
    },
    {
      "cell_type": "markdown",
      "source": [
        "\n",
        "\n",
        "```\n",
        "from typing import overload\n",
        "\n",
        "@overload\n",
        "def hello(s: int) -> str:\n",
        "    ...\n",
        "\n",
        "@overload\n",
        "def hello(s: str) -> str:\n",
        "    ...\n",
        "\n",
        "def hello(s):\n",
        "    if isinstance(s, int):\n",
        "        return \"Got an integer!\"\n",
        "    if isinstance(s, str):\n",
        "        return \"Got a string\"\n",
        "    raise ValueError('You must pass either int or str')\n",
        "```\n",
        "\n"
      ],
      "metadata": {
        "id": "TxpL2M3VwC8A"
      }
    },
    {
      "cell_type": "code",
      "source": [
        "measured_values = [75.0, 71.0, 70.0, 74,0, ]\n",
        "\n",
        "kf = KalmanFilter(68.0, measured_values[0], 2.0, 4.0)\n",
        "print(measured_values[0], kf.est_val, kf.kg, kf.est_err)\n",
        "\n",
        "\n",
        "for i in range(len(measured_values) - 2):\n",
        "  kf.calculate_next_state(measured_values[i + 1])\n",
        "  print(measured_values[i + 1], kf.est_val, kf.kg, kf.est_err)\n"
      ],
      "metadata": {
        "id": "wOLo96K6Ihci",
        "colab": {
          "base_uri": "https://localhost:8080/"
        },
        "outputId": "9df5a1dc-b53f-4896-cf0c-99d3fa2e09b7"
      },
      "execution_count": 3,
      "outputs": [
        {
          "output_type": "stream",
          "name": "stdout",
          "text": [
            "75.0 70.33333333333333 0.3333333333333333 1.3333333333333335\n",
            "71.0 70.5 0.25 1.0\n",
            "70.0 70.4 0.2 0.8\n",
            "74 71.0 0.16666666666666669 0.6666666666666666\n"
          ]
        }
      ]
    }
  ]
}