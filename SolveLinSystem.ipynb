{
  "nbformat": 4,
  "nbformat_minor": 0,
  "metadata": {
    "colab": {
      "name": "SolveLinSystem.ipynb",
      "provenance": [],
      "collapsed_sections": [],
      "toc_visible": true,
      "authorship_tag": "ABX9TyPm5FwTo4Kwm69cPt8qzlUH",
      "include_colab_link": true
    },
    "kernelspec": {
      "name": "python3",
      "display_name": "Python 3"
    },
    "language_info": {
      "name": "python"
    }
  },
  "cells": [
    {
      "cell_type": "markdown",
      "metadata": {
        "id": "view-in-github",
        "colab_type": "text"
      },
      "source": [
        "<a href=\"https://colab.research.google.com/github/andresvosa/testNotebooks/blob/main/SolveLinSystem.ipynb\" target=\"_parent\"><img src=\"https://colab.research.google.com/assets/colab-badge.svg\" alt=\"Open In Colab\"/></a>"
      ]
    },
    {
      "cell_type": "code",
      "execution_count": 1,
      "metadata": {
        "id": "dC4lg4GY_QqF"
      },
      "outputs": [],
      "source": [
        "from sympy.interactive import printing\n",
        "printing.init_printing(use_latex=True)\n",
        "from sympy import Eq, solve_linear_system, Matrix\n",
        "from numpy import linalg\n",
        "import sympy as sp\n",
        "import numpy as np"
      ]
    },
    {
      "cell_type": "code",
      "source": [
        "print('Using Sympy')\n",
        "eq1 = sp.Function('eq1')\n",
        "eq2 = sp.Function('eq2')\n",
        "\n",
        "x, y = sp.symbols('x y')\n",
        "eq1 = Eq(2*x-y, -4)\n",
        "eq2 = Eq(3*x-y, -2)\n",
        "display(eq1)\n",
        "display(eq2)\n",
        "\n",
        "row1 = [2, -1, -4]\n",
        "row2 = [3, -1, -2]\n",
        "\n",
        "system1 = Matrix((row1, row2))\n",
        "display(system1)\n",
        "\n",
        "display(solve_linear_system(system1, x, y))"
      ],
      "metadata": {
        "colab": {
          "base_uri": "https://localhost:8080/",
          "height": 141
        },
        "id": "ycohKGmj_t2H",
        "outputId": "96597847-08ac-431b-b754-13a0b35b1613"
      },
      "execution_count": 2,
      "outputs": [
        {
          "output_type": "stream",
          "name": "stdout",
          "text": [
            "Using Sympy\n"
          ]
        },
        {
          "output_type": "display_data",
          "data": {
            "image/png": "[encoded data removed]",
            "text/latex": "$\\displaystyle 2 x - y = -4$",
            "text/plain": [
              "2⋅x - y = -4"
            ]
          },
          "metadata": {}
        },
        {
          "output_type": "display_data",
          "data": {
            "image/png": "[encoded data removed]",
            "text/latex": "$\\displaystyle 3 x - y = -2$",
            "text/plain": [
              "3⋅x - y = -2"
            ]
          },
          "metadata": {}
        },
        {
          "output_type": "display_data",
          "data": {
            "text/latex": "$\\displaystyle \\left[\\begin{matrix}2 & -1 & -4\\\\3 & -1 & -2\\end{matrix}\\right]$",
            "text/plain": [
              "⎡2  -1  -4⎤\n",
              "⎢         ⎥\n",
              "⎣3  -1  -2⎦"
            ]
          },
          "metadata": {}
        },
        {
          "output_type": "display_data",
          "data": {
            "image/png": "[encoded data removed]",
            "text/latex": "$\\displaystyle \\left\\{ x : 2, \\  y : 8\\right\\}$",
            "text/plain": [
              "{x: 2, y: 8}"
            ]
          },
          "metadata": {}
        }
      ]
    },
    {
      "cell_type": "code",
      "source": [
        "print('Using Numpy')\n",
        "nprow1 = [2, -1]\n",
        "nprow2 = [3, -1]\n",
        "nmat = np.array([nprow1, nprow2])\n",
        "display(nmat)\n",
        "cons = np.array([-4, -2])\n",
        "display(cons)\n",
        "\n",
        "answer = linalg.solve(nmat, cons)\n",
        "display(answer)\n",
        "xval = answer[0]\n",
        "yval = answer[1]\n",
        "\n",
        "print(f'x = {xval}')\n",
        "print(f'y = {yval}')"
      ],
      "metadata": {
        "colab": {
          "base_uri": "https://localhost:8080/",
          "height": 138
        },
        "id": "EzMYacY__xex",
        "outputId": "1ede2023-aa9e-47f8-e54f-aeb52708c68a"
      },
      "execution_count": 3,
      "outputs": [
        {
          "output_type": "stream",
          "name": "stdout",
          "text": [
            "Using Numpy\n"
          ]
        },
        {
          "output_type": "display_data",
          "data": {
            "text/plain": [
              "array([[ 2, -1],\n",
              "       [ 3, -1]])"
            ]
          },
          "metadata": {}
        },
        {
          "output_type": "display_data",
          "data": {
            "text/plain": [
              "array([-4, -2])"
            ]
          },
          "metadata": {}
        },
        {
          "output_type": "display_data",
          "data": {
            "text/plain": [
              "array([2., 8.])"
            ]
          },
          "metadata": {}
        },
        {
          "output_type": "stream",
          "name": "stdout",
          "text": [
            "x = 2.0\n",
            "y = 8.0\n"
          ]
        }
      ]
    }
  ]
}