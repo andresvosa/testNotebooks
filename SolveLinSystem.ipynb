{
  "nbformat": 4,
  "nbformat_minor": 0,
  "metadata": {
    "colab": {
      "name": "SolveLinSystem.ipynb",
      "provenance": [],
      "collapsed_sections": [],
      "toc_visible": true,
      "authorship_tag": "ABX9TyOBMcTUQh/CQpREoc5gu1Aq",
      "include_colab_link": true
    },
    "kernelspec": {
      "name": "python3",
      "display_name": "Python 3"
    },
    "language_info": {
      "name": "python"
    }
  },
  "cells": [
    {
      "cell_type": "markdown",
      "metadata": {
        "id": "view-in-github",
        "colab_type": "text"
      },
      "source": [
        "<a href=\"https://colab.research.google.com/github/andresvosa/testNotebooks/blob/main/SolveLinSystem.ipynb\" target=\"_parent\"><img src=\"https://colab.research.google.com/assets/colab-badge.svg\" alt=\"Open In Colab\"/></a>"
      ]
    },
    {
      "cell_type": "code",
      "execution_count": 4,
      "metadata": {
        "id": "dC4lg4GY_QqF"
      },
      "outputs": [],
      "source": [
        "from sympy.interactive import printing\n",
        "printing.init_printing(use_latex=True)\n",
        "from sympy import Eq, solve_linear_system, Matrix, solve\n",
        "from numpy import linalg\n",
        "import sympy as sp\n",
        "import numpy as np"
      ]
    },
    {
      "cell_type": "code",
      "source": [
        "print('Using Sympy: ')\n",
        "eq1 = sp.Function('eq1')\n",
        "eq2 = sp.Function('eq2')\n",
        "\n",
        "x, y = sp.symbols('x y')\n",
        "eq1 = Eq(2*x-y, -4)\n",
        "eq2 = Eq(3*x-y, -2)\n",
        "display(eq1)\n",
        "display(eq2)\n",
        "\n",
        "row1 = [2, -1, -4]\n",
        "row2 = [3, -1, -2]\n",
        "\n",
        "system1 = Matrix((row1, row2))\n",
        "display(system1)\n",
        "\n",
        "display(solve_linear_system(system1, x, y))"
      ],
      "metadata": {
        "colab": {
          "base_uri": "https://localhost:8080/",
          "height": 141
        },
        "id": "ycohKGmj_t2H",
        "outputId": "ac1c9693-4ba4-49f7-fe6c-e5eaf4ad3630"
      },
      "execution_count": 5,
      "outputs": [
        {
          "output_type": "stream",
          "name": "stdout",
          "text": [
            "Using Sympy: \n"
          ]
        },
        {
          "output_type": "display_data",
          "data": {
            "image/png": "[encoded data removed]",
            "text/latex": "$\\displaystyle 2 x - y = -4$",
            "text/plain": [
              "2⋅x - y = -4"
            ]
          },
          "metadata": {}
        },
        {
          "output_type": "display_data",
          "data": {
            "image/png": "[encoded data removed]",
            "text/latex": "$\\displaystyle 3 x - y = -2$",
            "text/plain": [
              "3⋅x - y = -2"
            ]
          },
          "metadata": {}
        },
        {
          "output_type": "display_data",
          "data": {
            "text/latex": "$\\displaystyle \\left[\\begin{matrix}2 & -1 & -4\\\\3 & -1 & -2\\end{matrix}\\right]$",
            "text/plain": [
              "⎡2  -1  -4⎤\n",
              "⎢         ⎥\n",
              "⎣3  -1  -2⎦"
            ]
          },
          "metadata": {}
        },
        {
          "output_type": "display_data",
          "data": {
            "image/png": "[encoded data removed]",
            "text/latex": "$\\displaystyle \\left\\{ x : 2, \\  y : 8\\right\\}$",
            "text/plain": [
              "{x: 2, y: 8}"
            ]
          },
          "metadata": {}
        }
      ]
    },
    {
      "cell_type": "code",
      "source": [
        "print('Using Numpy: ')\n",
        "nprow1 = [2, -1]\n",
        "nprow2 = [3, -1]\n",
        "nmat = np.array([nprow1, nprow2])\n",
        "display(nmat)\n",
        "cons = np.array([-4, -2])\n",
        "display(cons)\n",
        "\n",
        "answer = linalg.solve(nmat, cons)\n",
        "display(answer)\n",
        "xval = answer[0]\n",
        "yval = answer[1]\n",
        "\n",
        "print(f'x = {xval}')\n",
        "print(f'y = {yval}')"
      ],
      "metadata": {
        "colab": {
          "base_uri": "https://localhost:8080/",
          "height": 138
        },
        "id": "EzMYacY__xex",
        "outputId": "f3d1ddfc-87cc-45b8-cb6e-cb7e9b9ae961"
      },
      "execution_count": 6,
      "outputs": [
        {
          "output_type": "stream",
          "name": "stdout",
          "text": [
            "Using Numpy: \n"
          ]
        },
        {
          "output_type": "display_data",
          "data": {
            "text/plain": [
              "array([[ 2, -1],\n",
              "       [ 3, -1]])"
            ]
          },
          "metadata": {}
        },
        {
          "output_type": "display_data",
          "data": {
            "text/plain": [
              "array([-4, -2])"
            ]
          },
          "metadata": {}
        },
        {
          "output_type": "display_data",
          "data": {
            "text/plain": [
              "array([2., 8.])"
            ]
          },
          "metadata": {}
        },
        {
          "output_type": "stream",
          "name": "stdout",
          "text": [
            "x = 2.0\n",
            "y = 8.0\n"
          ]
        }
      ]
    },
    {
      "cell_type": "code",
      "source": [
        "print('Next with sympy: ')\n",
        "a, b, c, d = sp.symbols('a b c d')\n",
        "vorr1 = Eq(a*b, 21)\n",
        "vorr2 = Eq(a+c, 8)\n",
        "vorr3 = Eq(b*d, 9)\n",
        "vorr4 = Eq(c-d, 5)\n",
        "display(vorr1)\n",
        "display(vorr2)\n",
        "display(vorr3)\n",
        "display(vorr4)\n",
        "sol = solve([vorr1, vorr2, vorr3, vorr4], [a, b, c, d])\n",
        "display(sol)"
      ],
      "metadata": {
        "colab": {
          "base_uri": "https://localhost:8080/",
          "height": 162
        },
        "id": "AvWLT_lgbXy7",
        "outputId": "7d0c2a9d-e6d4-44c1-b68d-222504e48028"
      },
      "execution_count": 7,
      "outputs": [
        {
          "output_type": "stream",
          "name": "stdout",
          "text": [
            "Next with sympy: \n"
          ]
        },
        {
          "output_type": "display_data",
          "data": {
            "image/png": "[encoded data removed]",
            "text/latex": "$\\displaystyle a b = 21$",
            "text/plain": [
              "a⋅b = 21"
            ]
          },
          "metadata": {}
        },
        {
          "output_type": "display_data",
          "data": {
            "image/png": "[encoded data removed]",
            "text/latex": "$\\displaystyle a + c = 8$",
            "text/plain": [
              "a + c = 8"
            ]
          },
          "metadata": {}
        },
        {
          "output_type": "display_data",
          "data": {
            "image/png": "[encoded data removed]",
            "text/latex": "$\\displaystyle b d = 9$",
            "text/plain": [
              "b⋅d = 9"
            ]
          },
          "metadata": {}
        },
        {
          "output_type": "display_data",
          "data": {
            "image/png": "[encoded data removed]",
            "text/latex": "$\\displaystyle c - d = 5$",
            "text/plain": [
              "c - d = 5"
            ]
          },
          "metadata": {}
        },
        {
          "output_type": "display_data",
          "data": {
            "image/png": "[encoded data removed]",
            "text/latex": "$\\displaystyle \\left[ \\left( \\frac{21}{10}, \\  10, \\  \\frac{59}{10}, \\  \\frac{9}{10}\\right)\\right]$",
            "text/plain": [
              "⎡⎛21      59      ⎞⎤\n",
              "⎢⎜──, 10, ──, 9/10⎟⎥\n",
              "⎣⎝10      10      ⎠⎦"
            ]
          },
          "metadata": {}
        }
      ]
    }
  ]
}