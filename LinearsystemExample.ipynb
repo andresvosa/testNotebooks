{
  "cells": [
    {
      "cell_type": "markdown",
      "metadata": {
        "colab_type": "text",
        "id": "view-in-github"
      },
      "source": [
        "<a href=\"https://colab.research.google.com/github/andresvosa/testNotebooks/blob/main/LinearsystemExample.ipynb\" target=\"_parent\"><img src=\"https://colab.research.google.com/assets/colab-badge.svg\" alt=\"Open In Colab\"/></a>"
      ]
    },
    {
      "cell_type": "code",
      "execution_count": 2,
      "metadata": {
        "id": "9ZYnp62fY_-B"
      },
      "outputs": [],
      "source": [
        "from sympy.interactive import printing\n",
        "printing.init_printing(use_latex=True)\n",
        "from sympy import Eq, solve_linear_system, Matrix\n",
        "from numpy import linalg\n",
        "import sympy as sp\n",
        "import numpy as np"
      ]
    },
    {
      "cell_type": "code",
      "execution_count": 8,
      "metadata": {},
      "outputs": [
        {
          "name": "stdout",
          "output_type": "stream",
          "text": [
            "Using Sympy\n"
          ]
        },
        {
          "data": {
            "image/png": "[encoded data removed]",
            "text/latex": [
              "$\\displaystyle 2 x - y = -4$"
            ],
            "text/plain": [
              "2⋅x - y = -4"
            ]
          },
          "metadata": {},
          "output_type": "display_data"
        },
        {
          "data": {
            "image/png": "[encoded data removed]",
            "text/latex": [
              "$\\displaystyle 3 x - 1 = -2$"
            ],
            "text/plain": [
              "3⋅x - 1 = -2"
            ]
          },
          "metadata": {},
          "output_type": "display_data"
        },
        {
          "data": {
            "text/latex": [
              "$\\displaystyle \\left[\\begin{matrix}2 & -1 & -4\\\\3 & -1 & -2\\end{matrix}\\right]$"
            ],
            "text/plain": [
              "⎡2  -1  -4⎤\n",
              "⎢         ⎥\n",
              "⎣3  -1  -2⎦"
            ]
          },
          "metadata": {},
          "output_type": "display_data"
        },
        {
          "data": {
            "image/png": "[encoded data removed]",
            "text/latex": [
              "$\\displaystyle \\left\\{ x : 2, \\  y : 8\\right\\}$"
            ],
            "text/plain": [
              "{x: 2, y: 8}"
            ]
          },
          "metadata": {},
          "output_type": "display_data"
        }
      ],
      "source": [
        "print('Using Sympy')\n",
        "eq1 = sp.Function('eq1')\n",
        "eq2 = sp.Function('eq2')\n",
        "\n",
        "x, y = sp.symbols('x y')\n",
        "eq1 = Eq(2*x-y, -4)\n",
        "eq2 = Eq(3*x-y, -2)\n",
        "display(eq1)\n",
        "display(eq2)\n",
        "\n",
        "row1 = [2, -1, -4]\n",
        "row2 = [3, -1, -2]\n",
        "\n",
        "system1 = Matrix((row1, row2))\n",
        "display(system1)\n",
        "\n",
        "display(solve_linear_system(system1, x, y))\n",
        "\n"
      ]
    },
    {
      "cell_type": "code",
      "execution_count": 13,
      "metadata": {},
      "outputs": [
        {
          "name": "stdout",
          "output_type": "stream",
          "text": [
            "Using Numpy\n"
          ]
        },
        {
          "data": {
            "text/plain": [
              "array([[ 2, -1],\n",
              "       [ 3, -1]])"
            ]
          },
          "metadata": {},
          "output_type": "display_data"
        },
        {
          "data": {
            "text/plain": [
              "array([-4, -2])"
            ]
          },
          "metadata": {},
          "output_type": "display_data"
        },
        {
          "data": {
            "text/plain": [
              "array([2., 8.])"
            ]
          },
          "metadata": {},
          "output_type": "display_data"
        },
        {
          "name": "stdout",
          "output_type": "stream",
          "text": [
            "x = 2.0\n",
            "y = 8.0\n"
          ]
        }
      ],
      "source": [
        "print('Using Numpy')\n",
        "nprow1 = [2, -1]\n",
        "nprow2 = [3, -1]\n",
        "nmat = np.array([nprow1, nprow2])\n",
        "display(nmat)\n",
        "cons = np.array([-4, -2])\n",
        "display(cons)\n",
        "\n",
        "answer = linalg.solve(nmat, cons)\n",
        "display(answer)\n",
        "xval = answer[0]\n",
        "yval = answer[1]\n",
        "\n",
        "print(f'x = {xval}')\n",
        "print(f'y = {yval}')"
      ]
    }
  ],
  "metadata": {
    "colab": {
      "authorship_tag": "ABX9TyMXvkGctT3uiuy+dJPdtr7H",
      "include_colab_link": true,
      "name": "Untitled0.ipynb",
      "provenance": [],
      "toc_visible": true
    },
    "kernelspec": {
      "display_name": "Python 3",
      "name": "python3"
    },
    "language_info": {
      "codemirror_mode": {
        "name": "ipython",
        "version": 3
      },
      "file_extension": ".py",
      "mimetype": "text/x-python",
      "name": "python",
      "nbconvert_exporter": "python",
      "pygments_lexer": "ipython3",
      "version": "3.8.2"
    }
  },
  "nbformat": 4,
  "nbformat_minor": 0
}
