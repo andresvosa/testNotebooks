{
  "nbformat": 4,
  "nbformat_minor": 0,
  "metadata": {
    "colab": {
      "name": "control_lib.ipynb",
      "provenance": [],
      "collapsed_sections": [],
      "toc_visible": true,
      "authorship_tag": "ABX9TyOTgpCz6UQ3tHO4aB58sL46",
      "include_colab_link": true
    },
    "kernelspec": {
      "name": "python3",
      "display_name": "Python 3"
    },
    "language_info": {
      "name": "python"
    }
  },
  "cells": [
    {
      "cell_type": "markdown",
      "metadata": {
        "id": "view-in-github",
        "colab_type": "text"
      },
      "source": [
        "<a href=\"https://colab.research.google.com/github/andresvosa/testNotebooks/blob/main/control_lib.ipynb\" target=\"_parent\"><img src=\"https://colab.research.google.com/assets/colab-badge.svg\" alt=\"Open In Colab\"/></a>"
      ]
    },
    {
      "cell_type": "code",
      "source": [
        "#Install libraries to colab\n",
        "!pip install control"
      ],
      "metadata": {
        "colab": {
          "base_uri": "https://localhost:8080/"
        },
        "id": "Z5spEYVeiQ7I",
        "outputId": "e808d156-e19b-477d-ede6-687fb59c9bc5"
      },
      "execution_count": 46,
      "outputs": [
        {
          "output_type": "stream",
          "name": "stdout",
          "text": [
            "Requirement already satisfied: control in /usr/local/lib/python3.7/dist-packages (0.9.0)\n",
            "Requirement already satisfied: matplotlib in /usr/local/lib/python3.7/dist-packages (from control) (3.2.2)\n",
            "Requirement already satisfied: scipy in /usr/local/lib/python3.7/dist-packages (from control) (1.4.1)\n",
            "Requirement already satisfied: numpy in /usr/local/lib/python3.7/dist-packages (from control) (1.19.5)\n",
            "Requirement already satisfied: python-dateutil>=2.1 in /usr/local/lib/python3.7/dist-packages (from matplotlib->control) (2.8.2)\n",
            "Requirement already satisfied: kiwisolver>=1.0.1 in /usr/local/lib/python3.7/dist-packages (from matplotlib->control) (1.3.2)\n",
            "Requirement already satisfied: cycler>=0.10 in /usr/local/lib/python3.7/dist-packages (from matplotlib->control) (0.11.0)\n",
            "Requirement already satisfied: pyparsing!=2.0.4,!=2.1.2,!=2.1.6,>=2.0.1 in /usr/local/lib/python3.7/dist-packages (from matplotlib->control) (3.0.6)\n",
            "Requirement already satisfied: six>=1.5 in /usr/local/lib/python3.7/dist-packages (from python-dateutil>=2.1->matplotlib->control) (1.15.0)\n"
          ]
        }
      ]
    },
    {
      "cell_type": "code",
      "execution_count": 47,
      "metadata": {
        "id": "Uzl2UsCehJWG"
      },
      "outputs": [],
      "source": [
        "import numpy as np\n",
        "%matplotlib inline\n",
        "import matplotlib.pyplot as plt\n",
        "import control as co\n"
      ]
    },
    {
      "cell_type": "code",
      "source": [
        "#Define simple transfer function\n",
        "K = 2\n",
        "Tau = 4\n",
        "G7 = co.tf([K], [Tau, 2])\n",
        "print(G7)\n"
      ],
      "metadata": {
        "colab": {
          "base_uri": "https://localhost:8080/"
        },
        "id": "p4h23ujKhYh2",
        "outputId": "8aa82b6b-0ad4-452f-da56-4161fd898cca"
      },
      "execution_count": 48,
      "outputs": [
        {
          "output_type": "stream",
          "name": "stdout",
          "text": [
            "\n",
            "   2\n",
            "-------\n",
            "4 s + 2\n",
            "\n"
          ]
        }
      ]
    },
    {
      "cell_type": "code",
      "source": [
        "#Set time steps\n",
        "t = np.linspace(0,10, 1000)\n",
        "\n",
        "#Calculate eresponse\n",
        "_, y = co.step_response(G7, t)\n",
        "\n",
        "plt.plot(t, y) # plot the response\n",
        "plt.xlabel('time (s)') # labels\n",
        "plt.ylabel('amplitude') # labels\n",
        "plt.title('step response') # title\n",
        "plt.grid() # grid"
      ],
      "metadata": {
        "colab": {
          "base_uri": "https://localhost:8080/",
          "height": 295
        },
        "id": "S1FZu0drj-jm",
        "outputId": "a19caf9b-f8e4-4ba1-93e3-af07f1253c2f"
      },
      "execution_count": 49,
      "outputs": [
        {
          "output_type": "display_data",
          "data": {
            "image/png": "[encoded data removed]",
            "text/plain": [
              "<Figure size 432x288 with 1 Axes>"
            ]
          },
          "metadata": {
            "needs_background": "light"
          }
        }
      ]
    },
    {
      "cell_type": "code",
      "source": [
        "#Convert transfer function to state space\n",
        "G7SS = co.tf2ss(G7)\n",
        "print(G7SS)"
      ],
      "metadata": {
        "colab": {
          "base_uri": "https://localhost:8080/"
        },
        "id": "DuaCKmgblVqI",
        "outputId": "8a0f8978-01b5-401d-cdcb-06596ff5cf16"
      },
      "execution_count": 50,
      "outputs": [
        {
          "output_type": "stream",
          "name": "stdout",
          "text": [
            "A = [[-0.5]]\n",
            "\n",
            "B = [[1.]]\n",
            "\n",
            "C = [[0.5]]\n",
            "\n",
            "D = [[0.]]\n",
            "\n"
          ]
        }
      ]
    },
    {
      "cell_type": "code",
      "source": [
        "tk, Yi = co.impulse_response(G7SS)\n",
        "\n",
        "plt.plot(tk, Yi) # plot the response\n",
        "plt.xlabel('time (s)') # labels\n",
        "plt.ylabel('amplitude') # labels\n",
        "plt.title('impulse response') # title\n",
        "plt.grid() # grid"
      ],
      "metadata": {
        "colab": {
          "base_uri": "https://localhost:8080/",
          "height": 295
        },
        "id": "9dZlDIMQlm7S",
        "outputId": "85deef0d-c611-4050-c462-d9428e818f59"
      },
      "execution_count": 51,
      "outputs": [
        {
          "output_type": "display_data",
          "data": {
            "image/png": "[encoded data removed]",
            "text/plain": [
              "<Figure size 432x288 with 1 Axes>"
            ]
          },
          "metadata": {
            "needs_background": "light"
          }
        }
      ]
    },
    {
      "cell_type": "code",
      "source": [
        "#Define state space system\n",
        "A = [[0.0, 1.0], [-0.25, -0.5]]\n",
        "B = [0.0, 0.75]\n",
        "C = [1.0, 0.0]\n",
        "D = [0.0]\n",
        "G1SS = co.StateSpace(A, B, C, D)\n",
        "print(G1SS)\n",
        "G1tf = co.ss2tf(G1SS)\n",
        "print(G1tf)"
      ],
      "metadata": {
        "colab": {
          "base_uri": "https://localhost:8080/"
        },
        "id": "hzEkJUe2pdAz",
        "outputId": "364536b0-2a6e-4c15-ee41-60636077eb49"
      },
      "execution_count": 52,
      "outputs": [
        {
          "output_type": "stream",
          "name": "stdout",
          "text": [
            "A = [[ 0.    1.  ]\n",
            "     [-0.25 -0.5 ]]\n",
            "\n",
            "B = [[0.  ]\n",
            "     [0.75]]\n",
            "\n",
            "C = [[1. 0.]]\n",
            "\n",
            "D = [[0.]]\n",
            "\n",
            "\n",
            "-5.551e-17 s + 0.75\n",
            "-------------------\n",
            "s^2 + 0.5 s + 0.25\n",
            "\n"
          ]
        }
      ]
    },
    {
      "cell_type": "code",
      "source": [
        "t1 =np.linspace(0, 20, 2000)\n",
        "\n",
        "_, Y1 = co.impulse_response(G1SS, t1)\n",
        "\n",
        "plt.plot(t1, Y1) # plot the response\n",
        "plt.xlabel('time (s)') # labels\n",
        "plt.ylabel('amplitude') # labels\n",
        "plt.title('impulse response') # title\n",
        "plt.grid() # grid"
      ],
      "metadata": {
        "colab": {
          "base_uri": "https://localhost:8080/",
          "height": 295
        },
        "id": "l-5lX7mRqiIB",
        "outputId": "ba8ae981-7a61-4d5b-bfd2-19b8c8bad910"
      },
      "execution_count": 53,
      "outputs": [
        {
          "output_type": "display_data",
          "data": {
            "image/png": "[encoded data removed]",
            "text/plain": [
              "<Figure size 432x288 with 1 Axes>"
            ]
          },
          "metadata": {
            "needs_background": "light"
          }
        }
      ]
    },
    {
      "cell_type": "code",
      "source": [
        "#Define state space system\n",
        "A = [[-0.1, 2.0], [-2.0, -0.1]]\n",
        "B = [0.0, 0.0]\n",
        "C = [0.0, 2.0]\n",
        "D = [0.0]\n",
        "G2SS = co.StateSpace(A, B, C, D)\n",
        "print(G2SS)\n"
      ],
      "metadata": {
        "colab": {
          "base_uri": "https://localhost:8080/"
        },
        "id": "B8ZYx2W6sJ6z",
        "outputId": "9501efb0-99b1-4163-bd1c-2f49cc509d06"
      },
      "execution_count": 54,
      "outputs": [
        {
          "output_type": "stream",
          "name": "stdout",
          "text": [
            "A = [[-0.1  2. ]\n",
            "     [-2.  -0.1]]\n",
            "\n",
            "B = [[0.]\n",
            "     [0.]]\n",
            "\n",
            "C = [[0. 2.]]\n",
            "\n",
            "D = [[0.]]\n",
            "\n"
          ]
        }
      ]
    },
    {
      "cell_type": "code",
      "source": [
        "t2 =np.linspace(0, 20, 2000)\n",
        "\n",
        "_, Y2 = co.impulse_response(G2SS, t2)\n",
        "\n",
        "plt.plot(t2, Y2) # plot the response\n",
        "plt.xlabel('time (s)') # labels\n",
        "plt.ylabel('amplitude') # labels\n",
        "plt.title('impulse response') # title\n",
        "plt.grid() # grid"
      ],
      "metadata": {
        "colab": {
          "base_uri": "https://localhost:8080/",
          "height": 295
        },
        "id": "vRwT-rqisqGQ",
        "outputId": "718f5764-75b3-4d97-ef4a-4f91053c52e0"
      },
      "execution_count": 55,
      "outputs": [
        {
          "output_type": "display_data",
          "data": {
            "image/png": "[encoded data removed]",
            "text/plain": [
              "<Figure size 432x288 with 1 Axes>"
            ]
          },
          "metadata": {
            "needs_background": "light"
          }
        }
      ]
    }
  ]
}