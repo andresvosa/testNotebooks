{
  "nbformat": 4,
  "nbformat_minor": 2,
  "metadata": {
    "colab": {
      "name": "NbSnipTests_001.ipynb",
      "provenance": [],
      "collapsed_sections": [],
      "toc_visible": true
    },
    "kernelspec": {
      "name": "python3",
      "display_name": "Python 3.8.2 64-bit"
    },
    "metadata": {
      "interpreter": {
        "hash": "1baa965d5efe3ac65b79dfc60c0d706280b1da80fedb7760faf2759126c4f253"
      }
    },
    "language_info": {
      "name": "python",
      "version": "3.8.2",
      "mimetype": "text/x-python",
      "codemirror_mode": {
        "name": "ipython",
        "version": 3
      },
      "pygments_lexer": "ipython3",
      "nbconvert_exporter": "python",
      "file_extension": ".py"
    },
    "interpreter": {
      "hash": "1baa965d5efe3ac65b79dfc60c0d706280b1da80fedb7760faf2759126c4f253"
    }
  },
  "cells": [
    {
      "cell_type": "markdown",
      "source": [
        "Import needed modules"
      ],
      "metadata": {
        "id": "QsdRnvxMzg4v"
      }
    },
    {
      "cell_type": "code",
      "execution_count": 2,
      "source": [
        "import numpy as np # For math calculations\r\n",
        "import sympy as sp # for symbol mathematics\r\n",
        "\r\n",
        "import matplotlib.pyplot as plt\r\n",
        "import seaborn as sns \r\n",
        "\r\n",
        "import pandas as pd\r\n",
        "# from bokeh.plotting import figure, show\r\n",
        "# from bokeh.io import output_notebook\r\n"
      ],
      "outputs": [
        {
          "output_type": "stream",
          "name": "stderr",
          "text": [
            "C:\\Users\\EEANVOS\\AppData\\Roaming\\Python\\Python38\\site-packages\\numpy\\_distributor_init.py:30: UserWarning: loaded more than 1 DLL from .libs:\n",
            "C:\\Users\\EEANVOS\\AppData\\Roaming\\Python\\Python38\\site-packages\\numpy\\.libs\\libopenblas.WCDJNK7YVMPZQ2ME2ZZHJJRJ3JIKNDB7.gfortran-win_amd64.dll\n",
            "C:\\Users\\EEANVOS\\AppData\\Roaming\\Python\\Python38\\site-packages\\numpy\\.libs\\libopenblas.XWYDX2IKJW2NMTWSFYNGFUWKQU3LYTCZ.gfortran-win_amd64.dll\n",
            "  warnings.warn(\"loaded more than 1 DLL from .libs:\"\n"
          ]
        }
      ],
      "metadata": {
        "id": "Yn9DUj04r9I1"
      }
    },
    {
      "cell_type": "markdown",
      "source": [
        "Symbolic math tests"
      ],
      "metadata": {
        "id": "sE8fZGOAznbZ"
      }
    },
    {
      "cell_type": "markdown",
      "source": [
        "*Integration*"
      ],
      "metadata": {
        "id": "v1cbp9sYMCDh"
      }
    },
    {
      "cell_type": "code",
      "execution_count": 2,
      "source": [
        "x, y = sp.symbols('x y')\r\n",
        "sp.integrate(sp.exp(-x) * sp.sin(3.0*x), x)"
      ],
      "outputs": [
        {
          "output_type": "execute_result",
          "data": {
            "text/latex": [
              "$\\displaystyle - 0.1 e^{- x} \\sin{\\left(3.0 x \\right)} - 0.3 e^{- x} \\cos{\\left(3.0 x \\right)}$"
            ],
            "text/plain": [
              "-0.1*exp(-x)*sin(3.0*x) - 0.3*exp(-x)*cos(3.0*x)"
            ]
          },
          "metadata": {},
          "execution_count": 2
        }
      ],
      "metadata": {
        "colab": {
          "base_uri": "https://localhost:8080/"
        },
        "id": "SATfa2sHsZJh",
        "outputId": "32636309-825a-4b76-c3e3-97d921fdda9e"
      }
    },
    {
      "cell_type": "code",
      "execution_count": 3,
      "source": [
        "sp.integrate(1 + sp.sin(y), (y, 0, sp.pi))"
      ],
      "outputs": [
        {
          "output_type": "execute_result",
          "data": {
            "text/latex": [
              "$\\displaystyle 2 + \\pi$"
            ],
            "text/plain": [
              "2 + pi"
            ]
          },
          "metadata": {},
          "execution_count": 3
        }
      ],
      "metadata": {
        "colab": {
          "base_uri": "https://localhost:8080/"
        },
        "id": "oxoa7fJ3zsd9",
        "outputId": "042691e4-3124-48db-a901-c56b2b88860a"
      }
    },
    {
      "cell_type": "markdown",
      "source": [
        "*Differentiation*"
      ],
      "metadata": {
        "id": "jYClbQUTMHGB"
      }
    },
    {
      "cell_type": "code",
      "execution_count": 4,
      "source": [
        "sp.diff(3.0*x**2 + 1, x)"
      ],
      "outputs": [
        {
          "output_type": "execute_result",
          "data": {
            "text/latex": [
              "$\\displaystyle 6.0 x$"
            ],
            "text/plain": [
              "6.0*x"
            ]
          },
          "metadata": {},
          "execution_count": 4
        }
      ],
      "metadata": {
        "colab": {
          "base_uri": "https://localhost:8080/"
        },
        "id": "DnjgrqbFMA93",
        "outputId": "31fca207-cfc4-40e4-b69f-45c29dbcb9ce"
      }
    },
    {
      "cell_type": "code",
      "execution_count": null,
      "source": [],
      "outputs": [],
      "metadata": {
        "id": "-ZcATTF7l3G3"
      }
    },
    {
      "cell_type": "markdown",
      "source": [
        "MultiVariable"
      ],
      "metadata": {
        "id": "FC1DjCsbmrUx"
      }
    },
    {
      "cell_type": "code",
      "execution_count": 5,
      "source": [
        "display(sp.integrate(x**2 * y, (x, 0, 1), (y, 0, 1)))\r\n",
        "sp.integrate(x**2 * y, x, y)"
      ],
      "outputs": [
        {
          "output_type": "display_data",
          "data": {
            "text/latex": [
              "$\\displaystyle \\frac{1}{6}$"
            ],
            "text/plain": [
              "1/6"
            ]
          },
          "metadata": {}
        },
        {
          "output_type": "execute_result",
          "data": {
            "text/latex": [
              "$\\displaystyle \\frac{x^{3} y^{2}}{6}$"
            ],
            "text/plain": [
              "x**3*y**2/6"
            ]
          },
          "metadata": {},
          "execution_count": 5
        }
      ],
      "metadata": {
        "colab": {
          "base_uri": "https://localhost:8080/",
          "height": 50
        },
        "id": "SLy275vlmw9U",
        "outputId": "c989c0f8-a008-45e5-9ba1-f7b11bf3e562"
      }
    },
    {
      "cell_type": "markdown",
      "source": [
        "Multivariable using monte carlo"
      ],
      "metadata": {
        "id": "Ts_NlAMRpmUw"
      }
    },
    {
      "cell_type": "code",
      "execution_count": 6,
      "source": [
        "display(sp.integrate(1 + sp.sin(x) + y, (x, 0, sp.pi), (y, -5, 5)))\r\n",
        "print(20 + 10*np.pi)\r\n",
        "sp.integrate(1 + sp.sin(x) + y, x, y)"
      ],
      "outputs": [
        {
          "output_type": "display_data",
          "data": {
            "text/latex": [
              "$\\displaystyle 20 + 10 \\pi$"
            ],
            "text/plain": [
              "20 + 10*pi"
            ]
          },
          "metadata": {}
        },
        {
          "output_type": "stream",
          "name": "stdout",
          "text": [
            "51.41592653589793\n"
          ]
        },
        {
          "output_type": "execute_result",
          "data": {
            "text/latex": [
              "$\\displaystyle \\frac{x y^{2}}{2} + y \\left(x - \\cos{\\left(x \\right)}\\right)$"
            ],
            "text/plain": [
              "x*y**2/2 + y*(x - cos(x))"
            ]
          },
          "metadata": {},
          "execution_count": 6
        }
      ],
      "metadata": {
        "colab": {
          "base_uri": "https://localhost:8080/",
          "height": 67
        },
        "id": "Cab86uw1XHeT",
        "outputId": "8a623462-37f0-4f42-8fd7-214e7e21b7ac"
      }
    },
    {
      "cell_type": "code",
      "execution_count": null,
      "source": [
        "def funMulti (x, y):\r\n",
        "  \"\"\" Function for integration\r\n",
        "  \"\"\" \r\n",
        "  return 1 + np.sin(x) + y\r\n",
        "\r\n",
        "def rand_args2(u, v, ax, bx, ay, by):\r\n",
        "  \"\"\" Function for calculating arguments \r\n",
        "  for integrated function\"\"\"\r\n",
        "  return ax + ((bx - ax) * u), ay + ((by - ay) * v)\r\n",
        "\r\n",
        "# Constants for calculations\r\n",
        "N = 100000\r\n",
        "ax = 0.0\r\n",
        "bx = np.pi\r\n",
        "ay = -5.0\r\n",
        "by = 5.0\r\n",
        "\r\n",
        "# Generate randomly choosed function arguments\r\n",
        "np.random.seed() \r\n",
        "Um = np.random.uniform(0, 1, (N, 2)) # Random numbers array\r\n",
        "f2DimArgs = np.vectorize(rand_args2)\r\n",
        "X, Y = f2DimArgs(Um[:, 0], Um[:, 1], ax, bx, ay, by)\r\n",
        "\r\n",
        "# Get randomly choosed function values\r\n",
        "f2DimVals = np.vectorize(funMulti)\r\n",
        "# Calculate integral with monte carlo\r\n",
        "I = (((bx - ax) * (by - ay))/N) * f2DimVals(X, Y).sum()\r\n",
        "I\r\n",
        "# help(np.random.uniform)\r\n",
        "testres = []\r\n",
        "for _ in range(10000): \r\n",
        "  np.random.seed()\r\n",
        "  Umx = np.random.uniform(0, 1, (N, 2))\r\n",
        "  Xx, Yy = f2DimArgs(Umx[:, 0], Umx[:, 1], ax, bx, ay, by)\r\n",
        "  testres.append((((bx - ax) * (by - ay))/N) * f2DimVals(Xx, Yy).sum())\r\n",
        "\r\n",
        "print(testres)\r\n",
        "print(np.median(testres))\r\n",
        "print(np.mean(testres))"
      ],
      "outputs": [],
      "metadata": {
        "id": "ms0MxgdYploL",
        "colab": {
          "base_uri": "https://localhost:8080/"
        },
        "outputId": "ea6292ba-d6c2-4104-93f3-406df23453c4",
        "tags": []
      }
    },
    {
      "cell_type": "code",
      "execution_count": null,
      "source": [
        "# Charting\r\n",
        "sns.set_style('darkgrid')\r\n",
        "sns.histplot(testres, kde=True)\r\n"
      ],
      "outputs": [],
      "metadata": {
        "colab": {
          "base_uri": "https://localhost:8080/",
          "height": 298
        },
        "id": "t_DPMdaAl6yV",
        "outputId": "10277ae5-7702-4be2-9e40-e44a5c7f8d82"
      }
    },
    {
      "cell_type": "code",
      "execution_count": null,
      "source": [
        "sns.ecdfplot(testres)"
      ],
      "outputs": [],
      "metadata": {
        "colab": {
          "base_uri": "https://localhost:8080/",
          "height": 286
        },
        "id": "rvYWZ38L4RoZ",
        "outputId": "49b031ef-1c62-4c44-dd2e-4cf4833b08b1"
      }
    },
    {
      "cell_type": "markdown",
      "source": [
        "Simple (single variable) monte carlo\r\n"
      ],
      "metadata": {
        "id": "qYMbv8yANFLN"
      }
    },
    {
      "cell_type": "code",
      "execution_count": null,
      "source": [
        "def fun2(x):\r\n",
        "  \"\"\" Function for integration\r\n",
        "  \"\"\"\r\n",
        "  return 1 + np.sin(x)\r\n",
        "\r\n",
        "def rand_args(u, a, b):\r\n",
        "  \"\"\" Function for calculating arguments \r\n",
        "  for integrated function\"\"\"\r\n",
        "  return a + ((b - a) * u)\r\n",
        "\r\n",
        "# Constants for calculations\r\n",
        "N = 100000\r\n",
        "a = 0\r\n",
        "b = np.pi\r\n",
        "\r\n",
        "# Generate randomly choosed function arguments\r\n",
        "np.random.seed() \r\n",
        "U = np.random.uniform(0, 1, N)\r\n",
        "# np.any(U == 0.0)\r\n",
        "fRndArgs = np.vectorize(rand_args)\r\n",
        "X = fRndArgs(U, a, b)\r\n",
        "# U, X\r\n",
        "# Get randomly choosed function values\r\n",
        "fVals = np.vectorize(fun2)\r\n",
        "# YSum = fVals(X).sum()\r\n",
        "\r\n",
        "# Calculate integral with monte carlo\r\n",
        "I = ((b - a) / N) * fVals(X).sum()\r\n",
        "2+np.pi, I"
      ],
      "outputs": [],
      "metadata": {
        "colab": {
          "base_uri": "https://localhost:8080/"
        },
        "id": "VlLGIW9xNI1L",
        "outputId": "4c1d74ef-ecad-44a5-e4c6-b49a223817cd"
      }
    },
    {
      "cell_type": "code",
      "execution_count": null,
      "source": [
        "# Empirical cumulative distribution function\r\n",
        "def ecdf(data):\r\n",
        "    \"\"\" Compute ECDF \"\"\"\r\n",
        "    x = np.sort(data)\r\n",
        "    n = x.size\r\n",
        "    y = np.arange(1, n+1) / n\r\n",
        "    return(x,y)\r\n",
        "\r\n",
        "Xecdf, Yecdf = ecdf(testres)\r\n",
        "display(Xecdf, Yecdf)"
      ],
      "outputs": [],
      "metadata": {
        "id": "GXPRj2B95GF9"
      }
    },
    {
      "cell_type": "code",
      "execution_count": null,
      "source": [
        "# help(sns.lineplot())\r\n",
        "sns.lineplot(Xecdf, Yecdf)"
      ],
      "outputs": [],
      "metadata": {
        "tags": []
      }
    },
    {
      "cell_type": "code",
      "execution_count": 9,
      "source": [
        "import cmath as cm\r\n",
        "print(np.sqrt(-16 + 0j))\r\n",
        "print()\r\n",
        "print(cm.sqrt(-16))\r\n",
        "\r\n"
      ],
      "outputs": [
        {
          "output_type": "stream",
          "name": "stdout",
          "text": [
            "4j\n",
            "\n",
            "4j\n"
          ]
        }
      ],
      "metadata": {}
    }
  ]
}