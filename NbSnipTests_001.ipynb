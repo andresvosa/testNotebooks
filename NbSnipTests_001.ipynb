{
  "nbformat": 4,
  "nbformat_minor": 0,
  "metadata": {
    "colab": {
      "name": "NbSnipTests_001.ipynb",
      "provenance": [],
      "collapsed_sections": [],
      "toc_visible": true
    },
    "kernelspec": {
      "name": "python38264bitd90f13c34c084f4d89aa3a0bb6844b7f",
      "display_name": "Python 3.8.2 64-bit"
    },
    "metadata": {
      "interpreter": {
        "hash": "1baa965d5efe3ac65b79dfc60c0d706280b1da80fedb7760faf2759126c4f253"
      }
    }
  },
  "cells": [
    {
      "cell_type": "markdown",
      "metadata": {
        "id": "QsdRnvxMzg4v"
      },
      "source": [
        "Import needed modules"
      ]
    },
    {
      "cell_type": "code",
      "metadata": {
        "id": "Yn9DUj04r9I1"
      },
      "source": [
        "import numpy as np # For math calculations\n",
        "import sympy as sp # for symbol mathematics\n",
        "\n",
        "import matplotlib.pyplot as plt\n",
        "import seaborn as sns \n",
        "\n",
        "import pandas as pd\n",
        "# from bokeh.plotting import figure, show\n",
        "# from bokeh.io import output_notebook\n"
      ],
      "execution_count": 1,
      "outputs": []
    },
    {
      "cell_type": "markdown",
      "metadata": {
        "id": "sE8fZGOAznbZ"
      },
      "source": [
        "Symbolic math tests"
      ]
    },
    {
      "cell_type": "markdown",
      "metadata": {
        "id": "v1cbp9sYMCDh"
      },
      "source": [
        "*Integration*"
      ]
    },
    {
      "cell_type": "code",
      "metadata": {
        "colab": {
          "base_uri": "https://localhost:8080/"
        },
        "id": "SATfa2sHsZJh",
        "outputId": "32636309-825a-4b76-c3e3-97d921fdda9e"
      },
      "source": [
        "x, y = sp.symbols('x y')\n",
        "sp.integrate(sp.exp(-x) * sp.sin(3.0*x), x)"
      ],
      "execution_count": 2,
      "outputs": [
        {
          "output_type": "execute_result",
          "data": {
            "text/plain": [
              "-0.1*exp(-x)*sin(3.0*x) - 0.3*exp(-x)*cos(3.0*x)"
            ],
            "text/latex": "$\\displaystyle - 0.1 e^{- x} \\sin{\\left(3.0 x \\right)} - 0.3 e^{- x} \\cos{\\left(3.0 x \\right)}$"
          },
          "metadata": {},
          "execution_count": 2
        }
      ]
    },
    {
      "cell_type": "code",
      "metadata": {
        "colab": {
          "base_uri": "https://localhost:8080/"
        },
        "id": "oxoa7fJ3zsd9",
        "outputId": "042691e4-3124-48db-a901-c56b2b88860a"
      },
      "source": [
        "sp.integrate(1 + sp.sin(y), (y, 0, sp.pi))"
      ],
      "execution_count": 3,
      "outputs": [
        {
          "output_type": "execute_result",
          "data": {
            "text/plain": [
              "2 + pi"
            ],
            "text/latex": "$\\displaystyle 2 + \\pi$"
          },
          "metadata": {},
          "execution_count": 3
        }
      ]
    },
    {
      "cell_type": "markdown",
      "metadata": {
        "id": "jYClbQUTMHGB"
      },
      "source": [
        "*Differentiation*"
      ]
    },
    {
      "cell_type": "code",
      "metadata": {
        "colab": {
          "base_uri": "https://localhost:8080/"
        },
        "id": "DnjgrqbFMA93",
        "outputId": "31fca207-cfc4-40e4-b69f-45c29dbcb9ce"
      },
      "source": [
        "sp.diff(3.0*x**2 + 1, x)"
      ],
      "execution_count": 4,
      "outputs": [
        {
          "output_type": "execute_result",
          "data": {
            "text/plain": [
              "6.0*x"
            ],
            "text/latex": "$\\displaystyle 6.0 x$"
          },
          "metadata": {},
          "execution_count": 4
        }
      ]
    },
    {
      "cell_type": "code",
      "metadata": {
        "id": "-ZcATTF7l3G3"
      },
      "source": [],
      "execution_count": null,
      "outputs": []
    },
    {
      "cell_type": "markdown",
      "metadata": {
        "id": "FC1DjCsbmrUx"
      },
      "source": [
        "MultiVariable"
      ]
    },
    {
      "cell_type": "code",
      "metadata": {
        "colab": {
          "base_uri": "https://localhost:8080/",
          "height": 50
        },
        "id": "SLy275vlmw9U",
        "outputId": "c989c0f8-a008-45e5-9ba1-f7b11bf3e562"
      },
      "source": [
        "display(sp.integrate(x**2 * y, (x, 0, 1), (y, 0, 1)))\n",
        "sp.integrate(x**2 * y, x, y)"
      ],
      "execution_count": 5,
      "outputs": [
        {
          "output_type": "display_data",
          "data": {
            "text/plain": "1/6",
            "text/latex": "$\\displaystyle \\frac{1}{6}$"
          },
          "metadata": {}
        },
        {
          "output_type": "execute_result",
          "data": {
            "text/plain": [
              "x**3*y**2/6"
            ],
            "text/latex": "$\\displaystyle \\frac{x^{3} y^{2}}{6}$"
          },
          "metadata": {},
          "execution_count": 5
        }
      ]
    },
    {
      "cell_type": "markdown",
      "metadata": {
        "id": "Ts_NlAMRpmUw"
      },
      "source": [
        "Multivariable using monte carlo"
      ]
    },
    {
      "cell_type": "code",
      "metadata": {
        "colab": {
          "base_uri": "https://localhost:8080/",
          "height": 67
        },
        "id": "Cab86uw1XHeT",
        "outputId": "8a623462-37f0-4f42-8fd7-214e7e21b7ac"
      },
      "source": [
        "display(sp.integrate(1 + sp.sin(x) + y, (x, 0, sp.pi), (y, -5, 5)))\n",
        "print(20 + 10*np.pi)\n",
        "sp.integrate(1 + sp.sin(x) + y, x, y)"
      ],
      "execution_count": 6,
      "outputs": [
        {
          "output_type": "display_data",
          "data": {
            "text/plain": "20 + 10*pi",
            "text/latex": "$\\displaystyle 20 + 10 \\pi$"
          },
          "metadata": {}
        },
        {
          "output_type": "stream",
          "name": "stdout",
          "text": [
            "51.41592653589793\n"
          ]
        },
        {
          "output_type": "execute_result",
          "data": {
            "text/plain": [
              "x*y**2/2 + y*(x - cos(x))"
            ],
            "text/latex": "$\\displaystyle \\frac{x y^{2}}{2} + y \\left(x - \\cos{\\left(x \\right)}\\right)$"
          },
          "metadata": {},
          "execution_count": 6
        }
      ]
    },
    {
      "cell_type": "code",
      "metadata": {
        "id": "ms0MxgdYploL",
        "colab": {
          "base_uri": "https://localhost:8080/"
        },
        "outputId": "ea6292ba-d6c2-4104-93f3-406df23453c4",
        "tags": []
      },
      "source": [
        "def funMulti (x, y):\n",
        "  \"\"\" Function for integration\n",
        "  \"\"\" \n",
        "  return 1 + np.sin(x) + y\n",
        "\n",
        "def rand_args2(u, v, ax, bx, ay, by):\n",
        "  \"\"\" Function for calculating arguments \n",
        "  for integrated function\"\"\"\n",
        "  return ax + ((bx - ax) * u), ay + ((by - ay) * v)\n",
        "\n",
        "# Constants for calculations\n",
        "N = 100000\n",
        "ax = 0.0\n",
        "bx = np.pi\n",
        "ay = -5.0\n",
        "by = 5.0\n",
        "\n",
        "# Generate randomly choosed function arguments\n",
        "np.random.seed() \n",
        "Um = np.random.uniform(0, 1, (N, 2)) # Random numbers array\n",
        "f2DimArgs = np.vectorize(rand_args2)\n",
        "X, Y = f2DimArgs(Um[:, 0], Um[:, 1], ax, bx, ay, by)\n",
        "\n",
        "# Get randomly choosed function values\n",
        "f2DimVals = np.vectorize(funMulti)\n",
        "# Calculate integral with monte carlo\n",
        "I = (((bx - ax) * (by - ay))/N) * f2DimVals(X, Y).sum()\n",
        "I\n",
        "# help(np.random.uniform)\n",
        "testres = []\n",
        "for _ in range(10000): \n",
        "  np.random.seed()\n",
        "  Umx = np.random.uniform(0, 1, (N, 2))\n",
        "  Xx, Yy = f2DimArgs(Umx[:, 0], Umx[:, 1], ax, bx, ay, by)\n",
        "  testres.append((((bx - ax) * (by - ay))/N) * f2DimVals(Xx, Yy).sum())\n",
        "\n",
        "print(testres)\n",
        "print(np.median(testres))\n",
        "print(np.mean(testres))"
      ],
      "execution_count": null,
      "outputs": []
    },
    {
      "cell_type": "code",
      "metadata": {
        "colab": {
          "base_uri": "https://localhost:8080/",
          "height": 298
        },
        "id": "t_DPMdaAl6yV",
        "outputId": "10277ae5-7702-4be2-9e40-e44a5c7f8d82"
      },
      "source": [
        "# Charting\r\n",
        "sns.set_style('darkgrid')\r\n",
        "sns.histplot(testres, kde=True)\r\n"
      ],
      "execution_count": null,
      "outputs": []
    },
    {
      "cell_type": "code",
      "metadata": {
        "colab": {
          "base_uri": "https://localhost:8080/",
          "height": 286
        },
        "id": "rvYWZ38L4RoZ",
        "outputId": "49b031ef-1c62-4c44-dd2e-4cf4833b08b1"
      },
      "source": [
        "sns.ecdfplot(testres)"
      ],
      "execution_count": null,
      "outputs": []
    },
    {
      "cell_type": "markdown",
      "metadata": {
        "id": "qYMbv8yANFLN"
      },
      "source": [
        "Simple (single variable) monte carlo\r\n"
      ]
    },
    {
      "cell_type": "code",
      "metadata": {
        "colab": {
          "base_uri": "https://localhost:8080/"
        },
        "id": "VlLGIW9xNI1L",
        "outputId": "4c1d74ef-ecad-44a5-e4c6-b49a223817cd"
      },
      "source": [
        "def fun2(x):\n",
        "  \"\"\" Function for integration\n",
        "  \"\"\"\n",
        "  return 1 + np.sin(x)\n",
        "\n",
        "def rand_args(u, a, b):\n",
        "  \"\"\" Function for calculating arguments \n",
        "  for integrated function\"\"\"\n",
        "  return a + ((b - a) * u)\n",
        "\n",
        "# Constants for calculations\n",
        "N = 100000\n",
        "a = 0\n",
        "b = np.pi\n",
        "\n",
        "# Generate randomly choosed function arguments\n",
        "np.random.seed() \n",
        "U = np.random.uniform(0, 1, N)\n",
        "# np.any(U == 0.0)\n",
        "fRndArgs = np.vectorize(rand_args)\n",
        "X = fRndArgs(U, a, b)\n",
        "# U, X\n",
        "# Get randomly choosed function values\n",
        "fVals = np.vectorize(fun2)\n",
        "# YSum = fVals(X).sum()\n",
        "\n",
        "# Calculate integral with monte carlo\n",
        "I = ((b - a) / N) * fVals(X).sum()\n",
        "2+np.pi, I"
      ],
      "execution_count": null,
      "outputs": []
    },
    {
      "cell_type": "code",
      "metadata": {
        "id": "GXPRj2B95GF9"
      },
      "source": [
        "# Empirical cumulative distribution function\n",
        "def ecdf(data):\n",
        "    \"\"\" Compute ECDF \"\"\"\n",
        "    x = np.sort(data)\n",
        "    n = x.size\n",
        "    y = np.arange(1, n+1) / n\n",
        "    return(x,y)\n",
        "\n",
        "Xecdf, Yecdf = ecdf(testres)\n",
        "display(Xecdf, Yecdf)"
      ],
      "execution_count": null,
      "outputs": []
    },
    {
      "cell_type": "code",
      "execution_count": null,
      "metadata": {
        "tags": []
      },
      "outputs": [],
      "source": [
        "# help(sns.lineplot())\n",
        "sns.lineplot(Xecdf, Yecdf)"
      ]
    },
    {
      "cell_type": "code",
      "execution_count": null,
      "metadata": {},
      "outputs": [],
      "source": []
    }
  ]
}