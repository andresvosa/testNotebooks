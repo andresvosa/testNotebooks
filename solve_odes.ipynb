{
  "nbformat": 4,
  "nbformat_minor": 0,
  "metadata": {
    "colab": {
      "name": "solve_odes.ipynb",
      "provenance": [],
      "toc_visible": true,
      "authorship_tag": "ABX9TyO+AAaTv1fTammr7TqtaIcj",
      "include_colab_link": true
    },
    "kernelspec": {
      "name": "python3",
      "display_name": "Python 3"
    },
    "language_info": {
      "name": "python"
    }
  },
  "cells": [
    {
      "cell_type": "markdown",
      "metadata": {
        "id": "view-in-github",
        "colab_type": "text"
      },
      "source": [
        "<a href=\"https://colab.research.google.com/github/andresvosa/testNotebooks/blob/main/solve_odes.ipynb\" target=\"_parent\"><img src=\"https://colab.research.google.com/assets/colab-badge.svg\" alt=\"Open In Colab\"/></a>"
      ]
    },
    {
      "cell_type": "code",
      "execution_count": 1,
      "metadata": {
        "id": "UXD8REXEQc8k"
      },
      "outputs": [],
      "source": [
        "import numpy as np\n",
        "from scipy.integrate import odeint\n",
        "%matplotlib inline\n",
        "import matplotlib.pyplot as plt\n"
      ]
    },
    {
      "cell_type": "code",
      "source": [
        "# function that returns dz/dt\n",
        "def model(z,t):\n",
        "    dxdt = -0.1 * z[0] + 2.0 * z[1]\n",
        "    dydt = -2.0 * z[0] - 0.1 * z[1]\n",
        "    dzdt = [dxdt,dydt]\n",
        "    return dzdt"
      ],
      "metadata": {
        "id": "XeK3BqAAQsGh"
      },
      "execution_count": null,
      "outputs": []
    },
    {
      "cell_type": "code",
      "source": [
        "# initial condition\n",
        "z0 = [2,0]\n",
        "\n",
        "# time points\n",
        "t = np.linspace(0,5)\n"
      ],
      "metadata": {
        "id": "MP6mNKbDRZMR"
      },
      "execution_count": null,
      "outputs": []
    },
    {
      "cell_type": "code",
      "source": [
        "# solve ODE\n",
        "z = odeint(model,z0,t)"
      ],
      "metadata": {
        "id": "L60QaqaHReHC"
      },
      "execution_count": null,
      "outputs": []
    },
    {
      "cell_type": "code",
      "source": [
        "# plot results\n",
        "plt.plot(t,z[:,0],'b-',label=r'$\\frac{dx}{dt}=-0.1x+2y$')\n",
        "plt.plot(t,z[:,1],'r--',label=r'$\\frac{dy}{dt}=-2x-0.1y$')\n",
        "plt.ylabel('response')\n",
        "plt.xlabel('time')\n",
        "plt.legend(loc='best')\n",
        "plt.show()"
      ],
      "metadata": {
        "id": "tS8kNIzgRk5Z"
      },
      "execution_count": null,
      "outputs": []
    }
  ]
}