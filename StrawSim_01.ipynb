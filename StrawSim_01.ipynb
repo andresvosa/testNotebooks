{
 "cells": [
  {
   "cell_type": "markdown",
   "metadata": {
    "colab_type": "text",
    "id": "view-in-github"
   },
   "source": [
    "<a href=\"https://colab.research.google.com/github/andresvosa/testNotebooks/blob/main/StrawSim_01.ipynb\" target=\"_parent\"><img src=\"https://colab.research.google.com/assets/colab-badge.svg\" alt=\"Open In Colab\"/></a>"
   ]
  },
  {
   "cell_type": "code",
   "execution_count": 1,
   "metadata": {
    "id": "UdE5CDuYNJYe"
   },
   "outputs": [],
   "source": [
    "import numpy as np\n",
    "import pandas as pd\n",
    "import matplotlib.pyplot as plt\n"
   ]
  },
  {
   "cell_type": "code",
   "execution_count": 2,
   "metadata": {
    "id": "15B7CTgoisFV"
   },
   "outputs": [
    {
     "data": {
      "text/html": [
       "<div>\n",
       "<style scoped>\n",
       "    .dataframe tbody tr th:only-of-type {\n",
       "        vertical-align: middle;\n",
       "    }\n",
       "\n",
       "    .dataframe tbody tr th {\n",
       "        vertical-align: top;\n",
       "    }\n",
       "\n",
       "    .dataframe thead th {\n",
       "        text-align: right;\n",
       "    }\n",
       "</style>\n",
       "<table border=\"1\" class=\"dataframe\">\n",
       "  <thead>\n",
       "    <tr style=\"text-align: right;\">\n",
       "      <th></th>\n",
       "      <th>Straw_ID</th>\n",
       "      <th>Length</th>\n",
       "      <th>Diameter_u</th>\n",
       "      <th>Angle_v</th>\n",
       "      <th>Angle_h</th>\n",
       "    </tr>\n",
       "  </thead>\n",
       "  <tbody>\n",
       "    <tr>\n",
       "      <th>1</th>\n",
       "      <td>1</td>\n",
       "      <td>150.0</td>\n",
       "      <td>6.08</td>\n",
       "      <td>0.00</td>\n",
       "      <td>0.0</td>\n",
       "    </tr>\n",
       "    <tr>\n",
       "      <th>2</th>\n",
       "      <td>1</td>\n",
       "      <td>155.0</td>\n",
       "      <td>6.19</td>\n",
       "      <td>1.99</td>\n",
       "      <td>NaN</td>\n",
       "    </tr>\n",
       "    <tr>\n",
       "      <th>3</th>\n",
       "      <td>1</td>\n",
       "      <td>190.0</td>\n",
       "      <td>5.74</td>\n",
       "      <td>1.77</td>\n",
       "      <td>NaN</td>\n",
       "    </tr>\n",
       "    <tr>\n",
       "      <th>4</th>\n",
       "      <td>1</td>\n",
       "      <td>228.0</td>\n",
       "      <td>5.33</td>\n",
       "      <td>4.53</td>\n",
       "      <td>NaN</td>\n",
       "    </tr>\n",
       "    <tr>\n",
       "      <th>5</th>\n",
       "      <td>1</td>\n",
       "      <td>215.0</td>\n",
       "      <td>5.20</td>\n",
       "      <td>1.01</td>\n",
       "      <td>NaN</td>\n",
       "    </tr>\n",
       "  </tbody>\n",
       "</table>\n",
       "</div>"
      ],
      "text/plain": [
       "   Straw_ID  Length  Diameter_u  Angle_v  Angle_h\n",
       "1         1   150.0        6.08     0.00      0.0\n",
       "2         1   155.0        6.19     1.99      NaN\n",
       "3         1   190.0        5.74     1.77      NaN\n",
       "4         1   228.0        5.33     4.53      NaN\n",
       "5         1   215.0        5.20     1.01      NaN"
      ]
     },
     "execution_count": 2,
     "metadata": {},
     "output_type": "execute_result"
    }
   ],
   "source": [
    "# Read measured straw data \n",
    "straw_df = pd.read_excel('Straw_Measurements.xlsx')\n",
    "straw_df = straw_df.drop(['Unnamed: 0'], axis=1)\n",
    "straw_df = straw_df.dropna(how='all')\n",
    "straw_df['Straw_ID'] = straw_df['Straw_ID'].astype('int64')\n",
    "straw_df.head()"
   ]
  },
  {
   "cell_type": "code",
   "execution_count": 3,
   "metadata": {},
   "outputs": [
    {
     "name": "stdout",
     "output_type": "stream",
     "text": [
      "<class 'pandas.core.frame.DataFrame'>\n",
      "Int64Index: 32 entries, 1 to 36\n",
      "Data columns (total 5 columns):\n",
      " #   Column      Non-Null Count  Dtype  \n",
      "---  ------      --------------  -----  \n",
      " 0   Straw_ID    32 non-null     int64  \n",
      " 1   Length      32 non-null     float64\n",
      " 2   Diameter_u  32 non-null     float64\n",
      " 3   Angle_v     32 non-null     float64\n",
      " 4   Angle_h     8 non-null      float64\n",
      "dtypes: float64(4), int64(1)\n",
      "memory usage: 1.5 KB\n"
     ]
    }
   ],
   "source": [
    "#straw_df.dtypes\n",
    "straw_df.info()"
   ]
  },
  {
   "cell_type": "code",
   "execution_count": 4,
   "metadata": {},
   "outputs": [
    {
     "data": {
      "text/html": [
       "<div>\n",
       "<style scoped>\n",
       "    .dataframe tbody tr th:only-of-type {\n",
       "        vertical-align: middle;\n",
       "    }\n",
       "\n",
       "    .dataframe tbody tr th {\n",
       "        vertical-align: top;\n",
       "    }\n",
       "\n",
       "    .dataframe thead th {\n",
       "        text-align: right;\n",
       "    }\n",
       "</style>\n",
       "<table border=\"1\" class=\"dataframe\">\n",
       "  <thead>\n",
       "    <tr style=\"text-align: right;\">\n",
       "      <th></th>\n",
       "      <th>count</th>\n",
       "      <th>mean</th>\n",
       "      <th>std</th>\n",
       "      <th>min</th>\n",
       "      <th>25%</th>\n",
       "      <th>50%</th>\n",
       "      <th>75%</th>\n",
       "      <th>max</th>\n",
       "    </tr>\n",
       "  </thead>\n",
       "  <tbody>\n",
       "    <tr>\n",
       "      <th>Straw_ID</th>\n",
       "      <td>32.0</td>\n",
       "      <td>2.906250</td>\n",
       "      <td>1.444888</td>\n",
       "      <td>1.00</td>\n",
       "      <td>2.000</td>\n",
       "      <td>3.000</td>\n",
       "      <td>4.0000</td>\n",
       "      <td>5.00</td>\n",
       "    </tr>\n",
       "    <tr>\n",
       "      <th>Length</th>\n",
       "      <td>32.0</td>\n",
       "      <td>197.531250</td>\n",
       "      <td>39.370846</td>\n",
       "      <td>110.00</td>\n",
       "      <td>170.000</td>\n",
       "      <td>201.500</td>\n",
       "      <td>228.5000</td>\n",
       "      <td>252.00</td>\n",
       "    </tr>\n",
       "    <tr>\n",
       "      <th>Diameter_u</th>\n",
       "      <td>32.0</td>\n",
       "      <td>5.434062</td>\n",
       "      <td>0.649361</td>\n",
       "      <td>4.19</td>\n",
       "      <td>5.055</td>\n",
       "      <td>5.435</td>\n",
       "      <td>6.0000</td>\n",
       "      <td>6.57</td>\n",
       "    </tr>\n",
       "    <tr>\n",
       "      <th>Angle_v</th>\n",
       "      <td>32.0</td>\n",
       "      <td>3.228438</td>\n",
       "      <td>3.446365</td>\n",
       "      <td>0.00</td>\n",
       "      <td>0.000</td>\n",
       "      <td>2.280</td>\n",
       "      <td>4.5075</td>\n",
       "      <td>12.88</td>\n",
       "    </tr>\n",
       "    <tr>\n",
       "      <th>Angle_h</th>\n",
       "      <td>8.0</td>\n",
       "      <td>0.000000</td>\n",
       "      <td>0.000000</td>\n",
       "      <td>0.00</td>\n",
       "      <td>0.000</td>\n",
       "      <td>0.000</td>\n",
       "      <td>0.0000</td>\n",
       "      <td>0.00</td>\n",
       "    </tr>\n",
       "  </tbody>\n",
       "</table>\n",
       "</div>"
      ],
      "text/plain": [
       "            count        mean        std     min      25%      50%       75%  \\\n",
       "Straw_ID     32.0    2.906250   1.444888    1.00    2.000    3.000    4.0000   \n",
       "Length       32.0  197.531250  39.370846  110.00  170.000  201.500  228.5000   \n",
       "Diameter_u   32.0    5.434062   0.649361    4.19    5.055    5.435    6.0000   \n",
       "Angle_v      32.0    3.228438   3.446365    0.00    0.000    2.280    4.5075   \n",
       "Angle_h       8.0    0.000000   0.000000    0.00    0.000    0.000    0.0000   \n",
       "\n",
       "               max  \n",
       "Straw_ID      5.00  \n",
       "Length      252.00  \n",
       "Diameter_u    6.57  \n",
       "Angle_v      12.88  \n",
       "Angle_h       0.00  "
      ]
     },
     "execution_count": 4,
     "metadata": {},
     "output_type": "execute_result"
    }
   ],
   "source": [
    "straw_df.describe().transpose()"
   ]
  },
  {
   "cell_type": "code",
   "execution_count": 5,
   "metadata": {},
   "outputs": [
    {
     "data": {
      "text/plain": [
       "array([[<AxesSubplot: title={'center': 'Length'}>,\n",
       "        <AxesSubplot: title={'center': 'Diameter_u'}>],\n",
       "       [<AxesSubplot: title={'center': 'Angle_v'}>, <AxesSubplot: >]],\n",
       "      dtype=object)"
      ]
     },
     "execution_count": 5,
     "metadata": {},
     "output_type": "execute_result"
    },
    {
     "data": {
      "image/png": "[encoded data removed]",
      "text/plain": [
       "<Figure size 640x480 with 4 Axes>"
      ]
     },
     "metadata": {},
     "output_type": "display_data"
    }
   ],
   "source": [
    "straw_df.hist(column=['Length', 'Diameter_u', 'Angle_v'])"
   ]
  },
  {
   "cell_type": "code",
   "execution_count": 6,
   "metadata": {},
   "outputs": [
    {
     "name": "stdout",
     "output_type": "stream",
     "text": [
      "0.45710313461964347\n",
      "0.4659446220479069\n"
     ]
    },
    {
     "data": {
      "image/png": "[encoded data removed]",
      "text/plain": [
       "<Figure size 640x480 with 1 Axes>"
      ]
     },
     "metadata": {},
     "output_type": "display_data"
    }
   ],
   "source": [
    "# Try to simulate lengths\n",
    "no_of_samples = 10000 # number of samples \n",
    "mu, sigma = 197.531250, 39.370846 #mean and standard deviation\n",
    "lens = np.random.normal(mu, sigma, no_of_samples)\n",
    "# print(lens)\n",
    "print(abs(mu - np.mean(lens)))\n",
    "print(abs(sigma - np.std(lens, ddof=1)))\n",
    "# Drawing distribution\n",
    "count, bins, ignored = plt.hist(lens, 30, density=True)\n",
    "plt.plot(bins, 1/(sigma * np.sqrt(2 * np.pi)) *\n",
    "               np.exp( - (bins - mu)**2 / (2 * sigma**2) ),\n",
    "         linewidth=2, color='r')\n",
    "plt.grid()\n",
    "plt.show()"
   ]
  },
  {
   "cell_type": "code",
   "execution_count": 7,
   "metadata": {},
   "outputs": [
    {
     "name": "stdout",
     "output_type": "stream",
     "text": [
      "0.012941749655874801\n",
      "0.0028540703677164547\n"
     ]
    },
    {
     "data": {
      "image/png": "[encoded data removed]",
      "text/plain": [
       "<Figure size 640x480 with 1 Axes>"
      ]
     },
     "metadata": {},
     "output_type": "display_data"
    }
   ],
   "source": [
    "# Simulating diameters\n",
    "mu_d, sigma_d = 5.434062, 0.649361 #mean and standard deviation\n",
    "diams = np.random.normal(mu_d, sigma_d, no_of_samples)\n",
    "# print(diams)\n",
    "print(abs(mu_d - np.mean(diams)))\n",
    "print(abs(sigma_d - np.std(diams, ddof=1)))\n",
    "# Drawing distribution\n",
    "count, bins, ignored = plt.hist(diams, 30, density=True)\n",
    "plt.plot(bins, 1/(sigma_d * np.sqrt(2 * np.pi)) *\n",
    "               np.exp( - (bins - mu_d)**2 / (2 * sigma_d**2) ),\n",
    "         linewidth=2, color='r')\n",
    "plt.grid()\n",
    "plt.show()"
   ]
  },
  {
   "cell_type": "code",
   "execution_count": 8,
   "metadata": {},
   "outputs": [
    {
     "name": "stdout",
     "output_type": "stream",
     "text": [
      "0.025573782155954294\n",
      "0.029883970275216942\n"
     ]
    },
    {
     "data": {
      "image/png": "[encoded data removed]",
      "text/plain": [
       "<Figure size 640x480 with 1 Axes>"
      ]
     },
     "metadata": {},
     "output_type": "display_data"
    }
   ],
   "source": [
    "# Simulating vertical angles\n",
    "mu_v, sigma_v = 3.228438, 3.446365 #mean and standard deviation\n",
    "v_angles = np.random.normal(mu_v, sigma_v, no_of_samples)\n",
    "# print(v_angles)\n",
    "print(abs(mu_v - np.mean(v_angles)))\n",
    "print(abs(sigma_v - np.std(v_angles, ddof=1)))\n",
    "# Drawing distribution\n",
    "count, bins, ignored = plt.hist(v_angles, 30, density=True)\n",
    "plt.plot(bins, 1/(sigma_v * np.sqrt(2 * np.pi)) *\n",
    "               np.exp( - (bins - mu_v)**2 / (2 * sigma_v**2) ),\n",
    "         linewidth=2, color='r')\n",
    "plt.grid()\n",
    "plt.show()"
   ]
  },
  {
   "cell_type": "code",
   "execution_count": 9,
   "metadata": {},
   "outputs": [
    {
     "data": {
      "image/png": "[encoded data removed]",
      "text/plain": [
       "<Figure size 640x480 with 1 Axes>"
      ]
     },
     "metadata": {},
     "output_type": "display_data"
    }
   ],
   "source": [
    "# Simulating horisontal angles\n",
    "mu_h, sigma_h = 3.228438, 3.446365 #mean and standard deviation\n",
    "h_angles = np.random.normal(mu_h, sigma_h, no_of_samples)\n",
    "#low, high = 0.0, 360.0\n",
    "#h_angles = np.random.uniform(low, high, no_of_samples)\n",
    "# print(h_angles)\n",
    "# Drawing distribution\n",
    "count, bins, ignored = plt.hist(h_angles, 30, density=True)\n",
    "plt.plot(bins, 1/(sigma_h * np.sqrt(2 * np.pi)) *\n",
    "               np.exp( - (bins - mu_h)**2 / (2 * sigma_h**2) ),\n",
    "         linewidth=2, color='r')\n",
    "plt.grid()\n",
    "plt.show()"
   ]
  },
  {
   "cell_type": "code",
   "execution_count": 10,
   "metadata": {},
   "outputs": [
    {
     "data": {
      "text/html": [
       "<div>\n",
       "<style scoped>\n",
       "    .dataframe tbody tr th:only-of-type {\n",
       "        vertical-align: middle;\n",
       "    }\n",
       "\n",
       "    .dataframe tbody tr th {\n",
       "        vertical-align: top;\n",
       "    }\n",
       "\n",
       "    .dataframe thead th {\n",
       "        text-align: right;\n",
       "    }\n",
       "</style>\n",
       "<table border=\"1\" class=\"dataframe\">\n",
       "  <thead>\n",
       "    <tr style=\"text-align: right;\">\n",
       "      <th></th>\n",
       "      <th>Straw_ID</th>\n",
       "      <th>Length</th>\n",
       "      <th>Diameter_u</th>\n",
       "      <th>Angle_v</th>\n",
       "      <th>Angle_h</th>\n",
       "    </tr>\n",
       "  </thead>\n",
       "  <tbody>\n",
       "    <tr>\n",
       "      <th>0</th>\n",
       "      <td>0</td>\n",
       "      <td>213.266947</td>\n",
       "      <td>4.639169</td>\n",
       "      <td>4.707811</td>\n",
       "      <td>3.123653</td>\n",
       "    </tr>\n",
       "    <tr>\n",
       "      <th>1</th>\n",
       "      <td>0</td>\n",
       "      <td>210.825003</td>\n",
       "      <td>4.877025</td>\n",
       "      <td>5.440231</td>\n",
       "      <td>6.201378</td>\n",
       "    </tr>\n",
       "    <tr>\n",
       "      <th>2</th>\n",
       "      <td>0</td>\n",
       "      <td>183.112304</td>\n",
       "      <td>6.092406</td>\n",
       "      <td>2.818874</td>\n",
       "      <td>3.256361</td>\n",
       "    </tr>\n",
       "    <tr>\n",
       "      <th>3</th>\n",
       "      <td>0</td>\n",
       "      <td>228.391538</td>\n",
       "      <td>5.565125</td>\n",
       "      <td>0.022015</td>\n",
       "      <td>4.872382</td>\n",
       "    </tr>\n",
       "    <tr>\n",
       "      <th>4</th>\n",
       "      <td>0</td>\n",
       "      <td>208.378254</td>\n",
       "      <td>6.332931</td>\n",
       "      <td>5.309767</td>\n",
       "      <td>1.926407</td>\n",
       "    </tr>\n",
       "  </tbody>\n",
       "</table>\n",
       "</div>"
      ],
      "text/plain": [
       "   Straw_ID      Length  Diameter_u   Angle_v   Angle_h\n",
       "0         0  213.266947    4.639169  4.707811  3.123653\n",
       "1         0  210.825003    4.877025  5.440231  6.201378\n",
       "2         0  183.112304    6.092406  2.818874  3.256361\n",
       "3         0  228.391538    5.565125  0.022015  4.872382\n",
       "4         0  208.378254    6.332931  5.309767  1.926407"
      ]
     },
     "execution_count": 10,
     "metadata": {},
     "output_type": "execute_result"
    }
   ],
   "source": [
    "# Creating simulated straw dataframe\n",
    "id_zeros = np.zeros(no_of_samples, dtype='int64')\n",
    "#simu_array = np.stack((id_zeros, lens, diams, v_angles, h_angles), axis=1)\n",
    "column_names = straw_df.columns.to_list()\n",
    "#straw_simu_df = pd.DataFrame(simu_array, column_names)\n",
    "straw_simu_df = pd.DataFrame({column_names[0]: id_zeros.tolist(), \n",
    "                              column_names[1]:  lens.tolist(),\n",
    "                              column_names[2]:  diams.tolist(),\n",
    "                              column_names[3]:  np.abs(v_angles).tolist(),\n",
    "                              column_names[4]:  h_angles.tolist()})\n",
    "straw_simu_df.head()"
   ]
  },
  {
   "cell_type": "code",
   "execution_count": 24,
   "metadata": {},
   "outputs": [
    {
     "name": "stdout",
     "output_type": "stream",
     "text": [
      "Sections: [9]\n",
      "Straw length: 1664.1987694157488mm\n"
     ]
    },
    {
     "data": {
      "text/html": [
       "<div>\n",
       "<style scoped>\n",
       "    .dataframe tbody tr th:only-of-type {\n",
       "        vertical-align: middle;\n",
       "    }\n",
       "\n",
       "    .dataframe tbody tr th {\n",
       "        vertical-align: top;\n",
       "    }\n",
       "\n",
       "    .dataframe thead th {\n",
       "        text-align: right;\n",
       "    }\n",
       "</style>\n",
       "<table border=\"1\" class=\"dataframe\">\n",
       "  <thead>\n",
       "    <tr style=\"text-align: right;\">\n",
       "      <th></th>\n",
       "      <th>Straw_ID</th>\n",
       "      <th>Length</th>\n",
       "      <th>Diameter_u</th>\n",
       "      <th>Angle_v</th>\n",
       "      <th>Angle_h</th>\n",
       "    </tr>\n",
       "  </thead>\n",
       "  <tbody>\n",
       "    <tr>\n",
       "      <th>7501</th>\n",
       "      <td>0</td>\n",
       "      <td>165.7655</td>\n",
       "      <td>5.2269</td>\n",
       "      <td>0.0000</td>\n",
       "      <td>0.0000</td>\n",
       "    </tr>\n",
       "    <tr>\n",
       "      <th>9640</th>\n",
       "      <td>0</td>\n",
       "      <td>175.8190</td>\n",
       "      <td>6.3606</td>\n",
       "      <td>8.5550</td>\n",
       "      <td>2.9365</td>\n",
       "    </tr>\n",
       "    <tr>\n",
       "      <th>2031</th>\n",
       "      <td>0</td>\n",
       "      <td>212.4589</td>\n",
       "      <td>6.2085</td>\n",
       "      <td>0.7158</td>\n",
       "      <td>9.0722</td>\n",
       "    </tr>\n",
       "    <tr>\n",
       "      <th>1319</th>\n",
       "      <td>0</td>\n",
       "      <td>133.7366</td>\n",
       "      <td>5.9221</td>\n",
       "      <td>2.5888</td>\n",
       "      <td>3.3841</td>\n",
       "    </tr>\n",
       "    <tr>\n",
       "      <th>3484</th>\n",
       "      <td>0</td>\n",
       "      <td>204.2791</td>\n",
       "      <td>5.3249</td>\n",
       "      <td>7.5306</td>\n",
       "      <td>6.5897</td>\n",
       "    </tr>\n",
       "    <tr>\n",
       "      <th>5560</th>\n",
       "      <td>0</td>\n",
       "      <td>220.4480</td>\n",
       "      <td>7.3130</td>\n",
       "      <td>11.0727</td>\n",
       "      <td>6.9517</td>\n",
       "    </tr>\n",
       "    <tr>\n",
       "      <th>1939</th>\n",
       "      <td>0</td>\n",
       "      <td>196.6779</td>\n",
       "      <td>5.2707</td>\n",
       "      <td>7.8195</td>\n",
       "      <td>1.3933</td>\n",
       "    </tr>\n",
       "    <tr>\n",
       "      <th>2916</th>\n",
       "      <td>0</td>\n",
       "      <td>156.7891</td>\n",
       "      <td>6.1493</td>\n",
       "      <td>4.9251</td>\n",
       "      <td>-0.8805</td>\n",
       "    </tr>\n",
       "    <tr>\n",
       "      <th>3971</th>\n",
       "      <td>0</td>\n",
       "      <td>198.2248</td>\n",
       "      <td>6.3438</td>\n",
       "      <td>1.1749</td>\n",
       "      <td>4.8222</td>\n",
       "    </tr>\n",
       "  </tbody>\n",
       "</table>\n",
       "</div>"
      ],
      "text/plain": [
       "      Straw_ID   Length  Diameter_u  Angle_v  Angle_h\n",
       "7501         0 165.7655      5.2269   0.0000   0.0000\n",
       "9640         0 175.8190      6.3606   8.5550   2.9365\n",
       "2031         0 212.4589      6.2085   0.7158   9.0722\n",
       "1319         0 133.7366      5.9221   2.5888   3.3841\n",
       "3484         0 204.2791      5.3249   7.5306   6.5897\n",
       "5560         0 220.4480      7.3130  11.0727   6.9517\n",
       "1939         0 196.6779      5.2707   7.8195   1.3933\n",
       "2916         0 156.7891      6.1493   4.9251  -0.8805\n",
       "3971         0 198.2248      6.3438   1.1749   4.8222"
      ]
     },
     "execution_count": 24,
     "metadata": {},
     "output_type": "execute_result"
    }
   ],
   "source": [
    "# Get random straw from simulated straw dataframe\n",
    "sections_list = [5, 6, 7, 8, 9, 10, 11] # How many sections in straw can have\n",
    "sections_selected = np.random.choice(sections_list, 1) # Select random sections\n",
    "rnd_straw = straw_simu_df.sample(n=sections_selected, axis='rows', replace=True)\n",
    "rnd_straw.iloc[0, -1] = 0.0 # First length angles are 0\n",
    "rnd_straw.iloc[0, -2] = 0.0\n",
    "print ('Sections: ' + str(sections_selected))\n",
    "print('Straw length: ' + str(rnd_straw['Length'].sum()) + 'mm')\n",
    "rnd_straw"
   ]
  },
  {
   "cell_type": "code",
   "execution_count": 25,
   "metadata": {},
   "outputs": [],
   "source": [
    "# Functions to calculate end point coordinates\n",
    "def sphere_to_chart(length : float, betha_xz : float, alpha_xy : float, x_st : float=0.0, y_st : float=0.0, z_st : float=0.0) -> float:\n",
    "    betha_xz_rad = np.deg2rad(betha_xz)\n",
    "    alpha_xy_rad = np.deg2rad(90.0 - alpha_xy)\n",
    "    return x_st + (length * np.cos(betha_xz_rad) * np.sin(alpha_xy_rad)), y_st + (length * np.cos(betha_xz_rad) * np.cos(alpha_xy_rad)), z_st + (length * np.sin(betha_xz_rad))\n",
    "\n",
    "def apply_wrapper(x):\n",
    "    return sphere_to_chart(x['Length'], x['Angle_v'], x['Angle_h'])\n"
   ]
  },
  {
   "cell_type": "code",
   "execution_count": 26,
   "metadata": {},
   "outputs": [
    {
     "data": {
      "text/html": [
       "<div>\n",
       "<style scoped>\n",
       "    .dataframe tbody tr th:only-of-type {\n",
       "        vertical-align: middle;\n",
       "    }\n",
       "\n",
       "    .dataframe tbody tr th {\n",
       "        vertical-align: top;\n",
       "    }\n",
       "\n",
       "    .dataframe thead th {\n",
       "        text-align: right;\n",
       "    }\n",
       "</style>\n",
       "<table border=\"1\" class=\"dataframe\">\n",
       "  <thead>\n",
       "    <tr style=\"text-align: right;\">\n",
       "      <th></th>\n",
       "      <th>Straw_ID</th>\n",
       "      <th>Length</th>\n",
       "      <th>Diameter_u</th>\n",
       "      <th>Angle_v</th>\n",
       "      <th>Angle_h</th>\n",
       "      <th>x</th>\n",
       "      <th>y</th>\n",
       "      <th>z</th>\n",
       "    </tr>\n",
       "  </thead>\n",
       "  <tbody>\n",
       "    <tr>\n",
       "      <th>7501</th>\n",
       "      <td>0</td>\n",
       "      <td>165.7655</td>\n",
       "      <td>5.2269</td>\n",
       "      <td>0.0000</td>\n",
       "      <td>0.0000</td>\n",
       "      <td>165.7655</td>\n",
       "      <td>0.0000</td>\n",
       "      <td>0.0000</td>\n",
       "    </tr>\n",
       "    <tr>\n",
       "      <th>9640</th>\n",
       "      <td>0</td>\n",
       "      <td>175.8190</td>\n",
       "      <td>6.3606</td>\n",
       "      <td>8.5550</td>\n",
       "      <td>2.9365</td>\n",
       "      <td>173.6344</td>\n",
       "      <td>8.9069</td>\n",
       "      <td>26.1547</td>\n",
       "    </tr>\n",
       "    <tr>\n",
       "      <th>2031</th>\n",
       "      <td>0</td>\n",
       "      <td>212.4589</td>\n",
       "      <td>6.2085</td>\n",
       "      <td>0.7158</td>\n",
       "      <td>9.0722</td>\n",
       "      <td>209.7848</td>\n",
       "      <td>33.4975</td>\n",
       "      <td>2.6541</td>\n",
       "    </tr>\n",
       "    <tr>\n",
       "      <th>1319</th>\n",
       "      <td>0</td>\n",
       "      <td>133.7366</td>\n",
       "      <td>5.9221</td>\n",
       "      <td>2.5888</td>\n",
       "      <td>3.3841</td>\n",
       "      <td>133.3671</td>\n",
       "      <td>7.8864</td>\n",
       "      <td>6.0405</td>\n",
       "    </tr>\n",
       "    <tr>\n",
       "      <th>3484</th>\n",
       "      <td>0</td>\n",
       "      <td>204.2791</td>\n",
       "      <td>5.3249</td>\n",
       "      <td>7.5306</td>\n",
       "      <td>6.5897</td>\n",
       "      <td>201.1793</td>\n",
       "      <td>23.2404</td>\n",
       "      <td>26.7719</td>\n",
       "    </tr>\n",
       "    <tr>\n",
       "      <th>5560</th>\n",
       "      <td>0</td>\n",
       "      <td>220.4480</td>\n",
       "      <td>7.3130</td>\n",
       "      <td>11.0727</td>\n",
       "      <td>6.9517</td>\n",
       "      <td>214.7538</td>\n",
       "      <td>26.1845</td>\n",
       "      <td>42.3379</td>\n",
       "    </tr>\n",
       "    <tr>\n",
       "      <th>1939</th>\n",
       "      <td>0</td>\n",
       "      <td>196.6779</td>\n",
       "      <td>5.2707</td>\n",
       "      <td>7.8195</td>\n",
       "      <td>1.3933</td>\n",
       "      <td>194.7915</td>\n",
       "      <td>4.7377</td>\n",
       "      <td>26.7587</td>\n",
       "    </tr>\n",
       "    <tr>\n",
       "      <th>2916</th>\n",
       "      <td>0</td>\n",
       "      <td>156.7891</td>\n",
       "      <td>6.1493</td>\n",
       "      <td>4.9251</td>\n",
       "      <td>-0.8805</td>\n",
       "      <td>156.1917</td>\n",
       "      <td>-2.4004</td>\n",
       "      <td>13.4610</td>\n",
       "    </tr>\n",
       "    <tr>\n",
       "      <th>3971</th>\n",
       "      <td>0</td>\n",
       "      <td>198.2248</td>\n",
       "      <td>6.3438</td>\n",
       "      <td>1.1749</td>\n",
       "      <td>4.8222</td>\n",
       "      <td>197.4816</td>\n",
       "      <td>16.6601</td>\n",
       "      <td>4.0644</td>\n",
       "    </tr>\n",
       "  </tbody>\n",
       "</table>\n",
       "</div>"
      ],
      "text/plain": [
       "      Straw_ID   Length  Diameter_u  Angle_v  Angle_h        x       y       z\n",
       "7501         0 165.7655      5.2269   0.0000   0.0000 165.7655  0.0000  0.0000\n",
       "9640         0 175.8190      6.3606   8.5550   2.9365 173.6344  8.9069 26.1547\n",
       "2031         0 212.4589      6.2085   0.7158   9.0722 209.7848 33.4975  2.6541\n",
       "1319         0 133.7366      5.9221   2.5888   3.3841 133.3671  7.8864  6.0405\n",
       "3484         0 204.2791      5.3249   7.5306   6.5897 201.1793 23.2404 26.7719\n",
       "5560         0 220.4480      7.3130  11.0727   6.9517 214.7538 26.1845 42.3379\n",
       "1939         0 196.6779      5.2707   7.8195   1.3933 194.7915  4.7377 26.7587\n",
       "2916         0 156.7891      6.1493   4.9251  -0.8805 156.1917 -2.4004 13.4610\n",
       "3971         0 198.2248      6.3438   1.1749   4.8222 197.4816 16.6601  4.0644"
      ]
     },
     "execution_count": 26,
     "metadata": {},
     "output_type": "execute_result"
    }
   ],
   "source": [
    "# print(rnd_straw.apply(apply_wrapper, axis=1, result_type=\"expand\"))\n",
    "rnd_straw[['x', 'y', 'z']] = rnd_straw.apply(apply_wrapper, axis=1, result_type=\"expand\")\n",
    "pd.options.display.float_format = '{:,.4f}'.format #Display format \n",
    "rnd_straw"
   ]
  },
  {
   "cell_type": "code",
   "execution_count": 27,
   "metadata": {},
   "outputs": [],
   "source": [
    "def vec_len_3d (x : float, y : float, z: float) -> float:\n",
    "    return np.sqrt(x**2 + y**2 + z**2)\n",
    "\n",
    "def test_shift(x):\n",
    "    print(x, type(x))"
   ]
  },
  {
   "cell_type": "code",
   "execution_count": 28,
   "metadata": {},
   "outputs": [
    {
     "name": "stdout",
     "output_type": "stream",
     "text": [
      "219.3100342688166 9.953801125613124 14.994419855540198\n",
      "220.047272\n",
      "219.3100342688166 14.978999647168285 9.976991190865473\n",
      "220.047272\n"
     ]
    }
   ],
   "source": [
    "x, y, z = sphere_to_chart(220.047272, 3.907266,\t2.598694)\n",
    "print(x, y, z)\n",
    "print(vec_len_3d(x, y, z))\n",
    "x, y, z = sphere_to_chart(220.047272, 2.598694, 3.907266,)\n",
    "print(x, y, z)\n",
    "print(vec_len_3d(x, y, z))"
   ]
  },
  {
   "cell_type": "code",
   "execution_count": 29,
   "metadata": {},
   "outputs": [
    {
     "name": "stdout",
     "output_type": "stream",
     "text": [
      "Straw_ID       0.0000\n",
      "Length       165.7655\n",
      "Diameter_u     5.2269\n",
      "Angle_v        0.0000\n",
      "Angle_h        0.0000\n",
      "x            165.7655\n",
      "y              0.0000\n",
      "z              0.0000\n",
      "Name: 7501, dtype: float64 <class 'pandas.core.series.Series'>\n",
      "Straw_ID       0.0000\n",
      "Length       175.8190\n",
      "Diameter_u     6.3606\n",
      "Angle_v        8.5550\n",
      "Angle_h        2.9365\n",
      "x            173.6344\n",
      "y              8.9069\n",
      "z             26.1547\n",
      "Name: 9640, dtype: float64 <class 'pandas.core.series.Series'>\n",
      "Straw_ID       0.0000\n",
      "Length       212.4589\n",
      "Diameter_u     6.2085\n",
      "Angle_v        0.7158\n",
      "Angle_h        9.0722\n",
      "x            209.7848\n",
      "y             33.4975\n",
      "z              2.6541\n",
      "Name: 2031, dtype: float64 <class 'pandas.core.series.Series'>\n",
      "Straw_ID       0.0000\n",
      "Length       133.7366\n",
      "Diameter_u     5.9221\n",
      "Angle_v        2.5888\n",
      "Angle_h        3.3841\n",
      "x            133.3671\n",
      "y              7.8864\n",
      "z              6.0405\n",
      "Name: 1319, dtype: float64 <class 'pandas.core.series.Series'>\n",
      "Straw_ID       0.0000\n",
      "Length       204.2791\n",
      "Diameter_u     5.3249\n",
      "Angle_v        7.5306\n",
      "Angle_h        6.5897\n",
      "x            201.1793\n",
      "y             23.2404\n",
      "z             26.7719\n",
      "Name: 3484, dtype: float64 <class 'pandas.core.series.Series'>\n",
      "Straw_ID       0.0000\n",
      "Length       220.4480\n",
      "Diameter_u     7.3130\n",
      "Angle_v       11.0727\n",
      "Angle_h        6.9517\n",
      "x            214.7538\n",
      "y             26.1845\n",
      "z             42.3379\n",
      "Name: 5560, dtype: float64 <class 'pandas.core.series.Series'>\n",
      "Straw_ID       0.0000\n",
      "Length       196.6779\n",
      "Diameter_u     5.2707\n",
      "Angle_v        7.8195\n",
      "Angle_h        1.3933\n",
      "x            194.7915\n",
      "y              4.7377\n",
      "z             26.7587\n",
      "Name: 1939, dtype: float64 <class 'pandas.core.series.Series'>\n",
      "Straw_ID       0.0000\n",
      "Length       156.7891\n",
      "Diameter_u     6.1493\n",
      "Angle_v        4.9251\n",
      "Angle_h       -0.8805\n",
      "x            156.1917\n",
      "y             -2.4004\n",
      "z             13.4610\n",
      "Name: 2916, dtype: float64 <class 'pandas.core.series.Series'>\n",
      "Straw_ID       0.0000\n",
      "Length       198.2248\n",
      "Diameter_u     6.3438\n",
      "Angle_v        1.1749\n",
      "Angle_h        4.8222\n",
      "x            197.4816\n",
      "y             16.6601\n",
      "z              4.0644\n",
      "Name: 3971, dtype: float64 <class 'pandas.core.series.Series'>\n"
     ]
    },
    {
     "data": {
      "text/plain": [
       "7501    None\n",
       "9640    None\n",
       "2031    None\n",
       "1319    None\n",
       "3484    None\n",
       "5560    None\n",
       "1939    None\n",
       "2916    None\n",
       "3971    None\n",
       "dtype: object"
      ]
     },
     "execution_count": 29,
     "metadata": {},
     "output_type": "execute_result"
    }
   ],
   "source": [
    "rnd_straw.apply(test_shift, axis=1, result_type=\"expand\")"
   ]
  },
  {
   "cell_type": "code",
   "execution_count": null,
   "metadata": {},
   "outputs": [],
   "source": []
  },
  {
   "cell_type": "code",
   "execution_count": null,
   "metadata": {},
   "outputs": [],
   "source": []
  },
  {
   "cell_type": "code",
   "execution_count": null,
   "metadata": {},
   "outputs": [],
   "source": []
  }
 ],
 "metadata": {
  "colab": {
   "authorship_tag": "ABX9TyN2bVsMPitZhPYDYidrGY4b",
   "collapsed_sections": [],
   "include_colab_link": true,
   "provenance": [],
   "toc_visible": true
  },
  "kernelspec": {
   "display_name": "Python 3 (ipykernel)",
   "language": "python",
   "name": "python3"
  },
  "language_info": {
   "codemirror_mode": {
    "name": "ipython",
    "version": 3
   },
   "file_extension": ".py",
   "mimetype": "text/x-python",
   "name": "python",
   "nbconvert_exporter": "python",
   "pygments_lexer": "ipython3",
   "version": "3.10.7"
  }
 },
 "nbformat": 4,
 "nbformat_minor": 4
}
