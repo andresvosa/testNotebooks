{
  "nbformat": 4,
  "nbformat_minor": 0,
  "metadata": {
    "colab": {
      "name": "work_with_xml.ipynb",
      "provenance": [],
      "collapsed_sections": [],
      "authorship_tag": "ABX9TyPDCuFzeN3w/NtvLfC/UsFr",
      "include_colab_link": true
    },
    "kernelspec": {
      "name": "python3",
      "display_name": "Python 3"
    },
    "language_info": {
      "name": "python"
    }
  },
  "cells": [
    {
      "cell_type": "markdown",
      "metadata": {
        "id": "view-in-github",
        "colab_type": "text"
      },
      "source": [
        "<a href=\"https://colab.research.google.com/github/andresvosa/testNotebooks/blob/main/work_with_xml.ipynb\" target=\"_parent\"><img src=\"https://colab.research.google.com/assets/colab-badge.svg\" alt=\"Open In Colab\"/></a>"
      ]
    },
    {
      "cell_type": "code",
      "execution_count": 1,
      "metadata": {
        "id": "jMUuH4A2uFiX"
      },
      "outputs": [],
      "source": [
        "import pandas as pd\n",
        "import xml.etree.ElementTree as ET"
      ]
    },
    {
      "cell_type": "code",
      "source": [
        "tree = ET.parse('/content/Config.xml')\n",
        "root = tree.getroot()"
      ],
      "metadata": {
        "id": "-SCzN1gUuata"
      },
      "execution_count": 2,
      "outputs": []
    },
    {
      "cell_type": "code",
      "source": [
        "for child in root:\n",
        "    print(child.tag, child.attrib)"
      ],
      "metadata": {
        "colab": {
          "base_uri": "https://localhost:8080/"
        },
        "id": "JPWS7wZcvChh",
        "outputId": "eacaf766-d4fb-4f6c-8cb4-a5c9534c96f3"
      },
      "execution_count": 3,
      "outputs": [
        {
          "output_type": "stream",
          "name": "stdout",
          "text": [
            "Element {'ID': 'gAlarmXCore', 'Type': 'mpalarmxcore'}\n"
          ]
        }
      ]
    },
    {
      "cell_type": "code",
      "source": [
        "[elem.attrib for elem in root.iter('Property')]"
      ],
      "metadata": {
        "id": "gKP3MpScvXjL"
      },
      "execution_count": null,
      "outputs": []
    },
    {
      "cell_type": "code",
      "source": [
        "for prop in root.iter('Property'):\n",
        "   if prop.attrib['ID'] == 'Message':\n",
        "     print(prop.attrib['Value'])"
      ],
      "metadata": {
        "colab": {
          "base_uri": "https://localhost:8080/"
        },
        "id": "6UrSh7BlvzYN",
        "outputId": "d1062a27-94d2-4129-d082-08ec95b0ca86"
      },
      "execution_count": 5,
      "outputs": [
        {
          "output_type": "stream",
          "name": "stdout",
          "text": [
            "Supply 24VDC is OFF\n",
            "Supply 24VDC Battery Mode\n",
            "LCH Fan Fault\n",
            "Emergency Stop\n",
            "V1 Comm Loss\n",
            "V2 Comm Loss\n",
            "ACS2000 Comm Loss\n",
            "V1 Tripped\n",
            "V2 Tripped\n",
            "ACS2000 Tripped\n",
            "Chiller Fault\n",
            "Heater Step1 Supply Off\n",
            "Heater Step2 Supply Off\n",
            "Heater Step3 Supply Off\n",
            "Container A Lock Open\n",
            "Container A 1 Lock Open\n",
            "Container B Lock Open\n",
            "Arc Trip\n",
            "V1 Local Ctrl Mode\n",
            "V2 Local Ctrl Mode\n",
            "Chiller Supply Off\n",
            "V1 Overheat\n",
            "V2 Overheat\n",
            "TMU Fan Fault\n",
            "TMU Fan Alarm\n",
            "TMU Fan is Off\n",
            "TMU Fan Supply is Off\n",
            "Main Switch 400V is Off\n",
            "Container B Switch is Off\n",
            "CMU Test Unit 400V is Off\n",
            "Container A High Temperature Alarm\n",
            "Container A High Temperature Fault\n",
            "Container B High Temperature Alarm\n",
            "Container B High Temperature Fault\n",
            "PC room High Temperature Alarm\n",
            "PC room High Temperature Fault\n"
          ]
        }
      ]
    }
  ]
}