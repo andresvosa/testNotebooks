{
 "cells": [
  {
   "cell_type": "markdown",
   "metadata": {
    "colab_type": "text",
    "id": "view-in-github"
   },
   "source": [
    "<a href=\"https://colab.research.google.com/github/andresvosa/testNotebooks/blob/main/StrawSim_01.ipynb\" target=\"_parent\"><img src=\"https://colab.research.google.com/assets/colab-badge.svg\" alt=\"Open In Colab\"/></a>"
   ]
  },
  {
   "cell_type": "code",
   "execution_count": 1,
   "metadata": {
    "id": "UdE5CDuYNJYe"
   },
   "outputs": [],
   "source": [
    "import numpy as np\n",
    "import pandas as pd\n",
    "import matplotlib.pyplot as plt\n"
   ]
  },
  {
   "cell_type": "code",
   "execution_count": 2,
   "metadata": {
    "id": "15B7CTgoisFV"
   },
   "outputs": [
    {
     "data": {
      "text/html": [
       "<div>\n",
       "<style scoped>\n",
       "    .dataframe tbody tr th:only-of-type {\n",
       "        vertical-align: middle;\n",
       "    }\n",
       "\n",
       "    .dataframe tbody tr th {\n",
       "        vertical-align: top;\n",
       "    }\n",
       "\n",
       "    .dataframe thead th {\n",
       "        text-align: right;\n",
       "    }\n",
       "</style>\n",
       "<table border=\"1\" class=\"dataframe\">\n",
       "  <thead>\n",
       "    <tr style=\"text-align: right;\">\n",
       "      <th></th>\n",
       "      <th>Straw_ID</th>\n",
       "      <th>Length</th>\n",
       "      <th>Diameter_u</th>\n",
       "      <th>Angle_v</th>\n",
       "      <th>Angle_h</th>\n",
       "    </tr>\n",
       "  </thead>\n",
       "  <tbody>\n",
       "    <tr>\n",
       "      <th>1</th>\n",
       "      <td>1</td>\n",
       "      <td>150.0</td>\n",
       "      <td>6.08</td>\n",
       "      <td>0.00</td>\n",
       "      <td>0.0</td>\n",
       "    </tr>\n",
       "    <tr>\n",
       "      <th>2</th>\n",
       "      <td>1</td>\n",
       "      <td>155.0</td>\n",
       "      <td>6.19</td>\n",
       "      <td>1.99</td>\n",
       "      <td>NaN</td>\n",
       "    </tr>\n",
       "    <tr>\n",
       "      <th>3</th>\n",
       "      <td>1</td>\n",
       "      <td>190.0</td>\n",
       "      <td>5.74</td>\n",
       "      <td>1.77</td>\n",
       "      <td>NaN</td>\n",
       "    </tr>\n",
       "    <tr>\n",
       "      <th>4</th>\n",
       "      <td>1</td>\n",
       "      <td>228.0</td>\n",
       "      <td>5.33</td>\n",
       "      <td>4.53</td>\n",
       "      <td>NaN</td>\n",
       "    </tr>\n",
       "    <tr>\n",
       "      <th>5</th>\n",
       "      <td>1</td>\n",
       "      <td>215.0</td>\n",
       "      <td>5.20</td>\n",
       "      <td>1.01</td>\n",
       "      <td>NaN</td>\n",
       "    </tr>\n",
       "  </tbody>\n",
       "</table>\n",
       "</div>"
      ],
      "text/plain": [
       "   Straw_ID  Length  Diameter_u  Angle_v  Angle_h\n",
       "1         1   150.0        6.08     0.00      0.0\n",
       "2         1   155.0        6.19     1.99      NaN\n",
       "3         1   190.0        5.74     1.77      NaN\n",
       "4         1   228.0        5.33     4.53      NaN\n",
       "5         1   215.0        5.20     1.01      NaN"
      ]
     },
     "execution_count": 2,
     "metadata": {},
     "output_type": "execute_result"
    }
   ],
   "source": [
    "# Read measured straw data \n",
    "straw_df = pd.read_excel('Straw_Measurements.xlsx')\n",
    "straw_df = straw_df.drop(['Unnamed: 0'], axis=1)\n",
    "straw_df = straw_df.dropna(how='all')\n",
    "straw_df['Straw_ID'] = straw_df['Straw_ID'].astype('int64')\n",
    "straw_df.head()"
   ]
  },
  {
   "cell_type": "code",
   "execution_count": 3,
   "metadata": {},
   "outputs": [
    {
     "name": "stdout",
     "output_type": "stream",
     "text": [
      "<class 'pandas.core.frame.DataFrame'>\n",
      "Int64Index: 32 entries, 1 to 36\n",
      "Data columns (total 5 columns):\n",
      " #   Column      Non-Null Count  Dtype  \n",
      "---  ------      --------------  -----  \n",
      " 0   Straw_ID    32 non-null     int64  \n",
      " 1   Length      32 non-null     float64\n",
      " 2   Diameter_u  32 non-null     float64\n",
      " 3   Angle_v     32 non-null     float64\n",
      " 4   Angle_h     8 non-null      float64\n",
      "dtypes: float64(4), int64(1)\n",
      "memory usage: 1.5 KB\n"
     ]
    }
   ],
   "source": [
    "#straw_df.dtypes\n",
    "straw_df.info()"
   ]
  },
  {
   "cell_type": "code",
   "execution_count": 4,
   "metadata": {},
   "outputs": [
    {
     "data": {
      "text/html": [
       "<div>\n",
       "<style scoped>\n",
       "    .dataframe tbody tr th:only-of-type {\n",
       "        vertical-align: middle;\n",
       "    }\n",
       "\n",
       "    .dataframe tbody tr th {\n",
       "        vertical-align: top;\n",
       "    }\n",
       "\n",
       "    .dataframe thead th {\n",
       "        text-align: right;\n",
       "    }\n",
       "</style>\n",
       "<table border=\"1\" class=\"dataframe\">\n",
       "  <thead>\n",
       "    <tr style=\"text-align: right;\">\n",
       "      <th></th>\n",
       "      <th>count</th>\n",
       "      <th>mean</th>\n",
       "      <th>std</th>\n",
       "      <th>min</th>\n",
       "      <th>25%</th>\n",
       "      <th>50%</th>\n",
       "      <th>75%</th>\n",
       "      <th>max</th>\n",
       "    </tr>\n",
       "  </thead>\n",
       "  <tbody>\n",
       "    <tr>\n",
       "      <th>Straw_ID</th>\n",
       "      <td>32.0</td>\n",
       "      <td>2.906250</td>\n",
       "      <td>1.444888</td>\n",
       "      <td>1.00</td>\n",
       "      <td>2.000</td>\n",
       "      <td>3.000</td>\n",
       "      <td>4.0000</td>\n",
       "      <td>5.00</td>\n",
       "    </tr>\n",
       "    <tr>\n",
       "      <th>Length</th>\n",
       "      <td>32.0</td>\n",
       "      <td>197.531250</td>\n",
       "      <td>39.370846</td>\n",
       "      <td>110.00</td>\n",
       "      <td>170.000</td>\n",
       "      <td>201.500</td>\n",
       "      <td>228.5000</td>\n",
       "      <td>252.00</td>\n",
       "    </tr>\n",
       "    <tr>\n",
       "      <th>Diameter_u</th>\n",
       "      <td>32.0</td>\n",
       "      <td>5.434062</td>\n",
       "      <td>0.649361</td>\n",
       "      <td>4.19</td>\n",
       "      <td>5.055</td>\n",
       "      <td>5.435</td>\n",
       "      <td>6.0000</td>\n",
       "      <td>6.57</td>\n",
       "    </tr>\n",
       "    <tr>\n",
       "      <th>Angle_v</th>\n",
       "      <td>32.0</td>\n",
       "      <td>3.228438</td>\n",
       "      <td>3.446365</td>\n",
       "      <td>0.00</td>\n",
       "      <td>0.000</td>\n",
       "      <td>2.280</td>\n",
       "      <td>4.5075</td>\n",
       "      <td>12.88</td>\n",
       "    </tr>\n",
       "    <tr>\n",
       "      <th>Angle_h</th>\n",
       "      <td>8.0</td>\n",
       "      <td>0.000000</td>\n",
       "      <td>0.000000</td>\n",
       "      <td>0.00</td>\n",
       "      <td>0.000</td>\n",
       "      <td>0.000</td>\n",
       "      <td>0.0000</td>\n",
       "      <td>0.00</td>\n",
       "    </tr>\n",
       "  </tbody>\n",
       "</table>\n",
       "</div>"
      ],
      "text/plain": [
       "            count        mean        std     min      25%      50%       75%  \\\n",
       "Straw_ID     32.0    2.906250   1.444888    1.00    2.000    3.000    4.0000   \n",
       "Length       32.0  197.531250  39.370846  110.00  170.000  201.500  228.5000   \n",
       "Diameter_u   32.0    5.434062   0.649361    4.19    5.055    5.435    6.0000   \n",
       "Angle_v      32.0    3.228438   3.446365    0.00    0.000    2.280    4.5075   \n",
       "Angle_h       8.0    0.000000   0.000000    0.00    0.000    0.000    0.0000   \n",
       "\n",
       "               max  \n",
       "Straw_ID      5.00  \n",
       "Length      252.00  \n",
       "Diameter_u    6.57  \n",
       "Angle_v      12.88  \n",
       "Angle_h       0.00  "
      ]
     },
     "execution_count": 4,
     "metadata": {},
     "output_type": "execute_result"
    }
   ],
   "source": [
    "straw_df.describe().transpose()"
   ]
  },
  {
   "cell_type": "code",
   "execution_count": 5,
   "metadata": {},
   "outputs": [
    {
     "data": {
      "text/plain": [
       "array([[<AxesSubplot: title={'center': 'Length'}>,\n",
       "        <AxesSubplot: title={'center': 'Diameter_u'}>],\n",
       "       [<AxesSubplot: title={'center': 'Angle_v'}>, <AxesSubplot: >]],\n",
       "      dtype=object)"
      ]
     },
     "execution_count": 5,
     "metadata": {},
     "output_type": "execute_result"
    },
    {
     "data": {
      "image/png": "[encoded data removed]",
      "text/plain": [
       "<Figure size 640x480 with 4 Axes>"
      ]
     },
     "metadata": {},
     "output_type": "display_data"
    }
   ],
   "source": [
    "straw_df.hist(column=['Length', 'Diameter_u', 'Angle_v'])"
   ]
  },
  {
   "cell_type": "code",
   "execution_count": 6,
   "metadata": {},
   "outputs": [
    {
     "name": "stdout",
     "output_type": "stream",
     "text": [
      "0.5577478777938154\n",
      "0.023626153140405393\n"
     ]
    },
    {
     "data": {
      "image/png": "[encoded data removed]",
      "text/plain": [
       "<Figure size 640x480 with 1 Axes>"
      ]
     },
     "metadata": {},
     "output_type": "display_data"
    }
   ],
   "source": [
    "# Try to simulate lengths\n",
    "no_of_samples = 10000 # number of samples \n",
    "mu, sigma = 197.531250, 39.370846 #mean and standard deviation\n",
    "lens = np.random.normal(mu, sigma, no_of_samples)\n",
    "# print(lens)\n",
    "print(abs(mu - np.mean(lens)))\n",
    "print(abs(sigma - np.std(lens, ddof=1)))\n",
    "# Drawing distribution\n",
    "count, bins, ignored = plt.hist(lens, 30, density=True)\n",
    "plt.plot(bins, 1/(sigma * np.sqrt(2 * np.pi)) *\n",
    "               np.exp( - (bins - mu)**2 / (2 * sigma**2) ),\n",
    "         linewidth=2, color='r')\n",
    "plt.grid()\n",
    "plt.show()"
   ]
  },
  {
   "cell_type": "code",
   "execution_count": 7,
   "metadata": {},
   "outputs": [
    {
     "name": "stdout",
     "output_type": "stream",
     "text": [
      "0.013478285594257677\n",
      "0.009023816762192105\n"
     ]
    },
    {
     "data": {
      "image/png": "[encoded data removed]",
      "text/plain": [
       "<Figure size 640x480 with 1 Axes>"
      ]
     },
     "metadata": {},
     "output_type": "display_data"
    }
   ],
   "source": [
    "# Simulating diameters\n",
    "mu_d, sigma_d = 5.434062, 0.649361 #mean and standard deviation\n",
    "diams = np.random.normal(mu_d, sigma_d, no_of_samples)\n",
    "# print(diams)\n",
    "print(abs(mu_d - np.mean(diams)))\n",
    "print(abs(sigma_d - np.std(diams, ddof=1)))\n",
    "# Drawing distribution\n",
    "count, bins, ignored = plt.hist(diams, 30, density=True)\n",
    "plt.plot(bins, 1/(sigma_d * np.sqrt(2 * np.pi)) *\n",
    "               np.exp( - (bins - mu_d)**2 / (2 * sigma_d**2) ),\n",
    "         linewidth=2, color='r')\n",
    "plt.grid()\n",
    "plt.show()"
   ]
  },
  {
   "cell_type": "code",
   "execution_count": 8,
   "metadata": {},
   "outputs": [
    {
     "name": "stdout",
     "output_type": "stream",
     "text": [
      "0.002177804916871917\n",
      "0.011628346695292446\n"
     ]
    },
    {
     "data": {
      "image/png": "[encoded data removed]",
      "text/plain": [
       "<Figure size 640x480 with 1 Axes>"
      ]
     },
     "metadata": {},
     "output_type": "display_data"
    }
   ],
   "source": [
    "# Simulating vertical angles\n",
    "mu_v, sigma_v = 3.228438, 3.446365 #mean and standard deviation\n",
    "v_angles = np.random.normal(mu_v, sigma_v, no_of_samples)\n",
    "# print(v_angles)\n",
    "print(abs(mu_v - np.mean(v_angles)))\n",
    "print(abs(sigma_v - np.std(v_angles, ddof=1)))\n",
    "# Drawing distribution\n",
    "count, bins, ignored = plt.hist(v_angles, 30, density=True)\n",
    "plt.plot(bins, 1/(sigma_v * np.sqrt(2 * np.pi)) *\n",
    "               np.exp( - (bins - mu_v)**2 / (2 * sigma_v**2) ),\n",
    "         linewidth=2, color='r')\n",
    "plt.grid()\n",
    "plt.show()"
   ]
  },
  {
   "cell_type": "code",
   "execution_count": 9,
   "metadata": {},
   "outputs": [
    {
     "data": {
      "image/png": "[encoded data removed]",
      "text/plain": [
       "<Figure size 640x480 with 1 Axes>"
      ]
     },
     "metadata": {},
     "output_type": "display_data"
    }
   ],
   "source": [
    "# Simulating horisontal angles\n",
    "low, high = 0.0, 360.0\n",
    "h_angles = np.random.uniform(low, high, no_of_samples)\n",
    "# print(h_angles)\n",
    "# Drawing distribution\n",
    "count, bins, ignored = plt.hist(h_angles, 30, density=True)\n",
    "plt.grid()\n",
    "plt.show()"
   ]
  },
  {
   "cell_type": "code",
   "execution_count": 10,
   "metadata": {},
   "outputs": [
    {
     "data": {
      "text/html": [
       "<div>\n",
       "<style scoped>\n",
       "    .dataframe tbody tr th:only-of-type {\n",
       "        vertical-align: middle;\n",
       "    }\n",
       "\n",
       "    .dataframe tbody tr th {\n",
       "        vertical-align: top;\n",
       "    }\n",
       "\n",
       "    .dataframe thead th {\n",
       "        text-align: right;\n",
       "    }\n",
       "</style>\n",
       "<table border=\"1\" class=\"dataframe\">\n",
       "  <thead>\n",
       "    <tr style=\"text-align: right;\">\n",
       "      <th></th>\n",
       "      <th>Straw_ID</th>\n",
       "      <th>Length</th>\n",
       "      <th>Diameter_u</th>\n",
       "      <th>Angle_v</th>\n",
       "      <th>Angle_h</th>\n",
       "    </tr>\n",
       "  </thead>\n",
       "  <tbody>\n",
       "    <tr>\n",
       "      <th>0</th>\n",
       "      <td>0</td>\n",
       "      <td>201.366458</td>\n",
       "      <td>4.967053</td>\n",
       "      <td>5.646025</td>\n",
       "      <td>293.753971</td>\n",
       "    </tr>\n",
       "    <tr>\n",
       "      <th>1</th>\n",
       "      <td>0</td>\n",
       "      <td>167.301517</td>\n",
       "      <td>4.830470</td>\n",
       "      <td>5.724705</td>\n",
       "      <td>98.522240</td>\n",
       "    </tr>\n",
       "    <tr>\n",
       "      <th>2</th>\n",
       "      <td>0</td>\n",
       "      <td>158.361233</td>\n",
       "      <td>4.670470</td>\n",
       "      <td>4.404815</td>\n",
       "      <td>77.154863</td>\n",
       "    </tr>\n",
       "    <tr>\n",
       "      <th>3</th>\n",
       "      <td>0</td>\n",
       "      <td>243.109143</td>\n",
       "      <td>5.308722</td>\n",
       "      <td>10.527404</td>\n",
       "      <td>282.524163</td>\n",
       "    </tr>\n",
       "    <tr>\n",
       "      <th>4</th>\n",
       "      <td>0</td>\n",
       "      <td>204.171936</td>\n",
       "      <td>5.942303</td>\n",
       "      <td>0.247198</td>\n",
       "      <td>211.100631</td>\n",
       "    </tr>\n",
       "  </tbody>\n",
       "</table>\n",
       "</div>"
      ],
      "text/plain": [
       "   Straw_ID      Length  Diameter_u    Angle_v     Angle_h\n",
       "0         0  201.366458    4.967053   5.646025  293.753971\n",
       "1         0  167.301517    4.830470   5.724705   98.522240\n",
       "2         0  158.361233    4.670470   4.404815   77.154863\n",
       "3         0  243.109143    5.308722  10.527404  282.524163\n",
       "4         0  204.171936    5.942303   0.247198  211.100631"
      ]
     },
     "execution_count": 10,
     "metadata": {},
     "output_type": "execute_result"
    }
   ],
   "source": [
    "# Creating simulated straw dataframe\n",
    "id_zeros = np.zeros(no_of_samples, dtype='int64')\n",
    "#simu_array = np.stack((id_zeros, lens, diams, v_angles, h_angles), axis=1)\n",
    "column_names = straw_df.columns.to_list()\n",
    "#straw_simu_df = pd.DataFrame(simu_array, column_names)\n",
    "straw_simu_df = pd.DataFrame({column_names[0]: id_zeros.tolist(), \n",
    "                              column_names[1]:  lens.tolist(),\n",
    "                              column_names[2]:  diams.tolist(),\n",
    "                              column_names[3]:  np.abs(v_angles).tolist(),\n",
    "                              column_names[4]:  h_angles.tolist()})\n",
    "straw_simu_df.head()"
   ]
  },
  {
   "cell_type": "code",
   "execution_count": 50,
   "metadata": {},
   "outputs": [
    {
     "name": "stdout",
     "output_type": "stream",
     "text": [
      "Sections: [9]\n",
      "Straw length: 1919.093065326177mm\n"
     ]
    },
    {
     "data": {
      "text/html": [
       "<div>\n",
       "<style scoped>\n",
       "    .dataframe tbody tr th:only-of-type {\n",
       "        vertical-align: middle;\n",
       "    }\n",
       "\n",
       "    .dataframe tbody tr th {\n",
       "        vertical-align: top;\n",
       "    }\n",
       "\n",
       "    .dataframe thead th {\n",
       "        text-align: right;\n",
       "    }\n",
       "</style>\n",
       "<table border=\"1\" class=\"dataframe\">\n",
       "  <thead>\n",
       "    <tr style=\"text-align: right;\">\n",
       "      <th></th>\n",
       "      <th>Straw_ID</th>\n",
       "      <th>Length</th>\n",
       "      <th>Diameter_u</th>\n",
       "      <th>Angle_v</th>\n",
       "      <th>Angle_h</th>\n",
       "    </tr>\n",
       "  </thead>\n",
       "  <tbody>\n",
       "    <tr>\n",
       "      <th>7934</th>\n",
       "      <td>0</td>\n",
       "      <td>244.591759</td>\n",
       "      <td>5.601674</td>\n",
       "      <td>4.382738</td>\n",
       "      <td>276.557981</td>\n",
       "    </tr>\n",
       "    <tr>\n",
       "      <th>9941</th>\n",
       "      <td>0</td>\n",
       "      <td>226.256153</td>\n",
       "      <td>5.668337</td>\n",
       "      <td>8.943690</td>\n",
       "      <td>306.249479</td>\n",
       "    </tr>\n",
       "    <tr>\n",
       "      <th>3989</th>\n",
       "      <td>0</td>\n",
       "      <td>213.706916</td>\n",
       "      <td>5.711238</td>\n",
       "      <td>2.909898</td>\n",
       "      <td>316.019854</td>\n",
       "    </tr>\n",
       "    <tr>\n",
       "      <th>2000</th>\n",
       "      <td>0</td>\n",
       "      <td>206.827844</td>\n",
       "      <td>5.145067</td>\n",
       "      <td>2.154378</td>\n",
       "      <td>342.244261</td>\n",
       "    </tr>\n",
       "    <tr>\n",
       "      <th>992</th>\n",
       "      <td>0</td>\n",
       "      <td>194.398476</td>\n",
       "      <td>5.897586</td>\n",
       "      <td>0.984708</td>\n",
       "      <td>256.664143</td>\n",
       "    </tr>\n",
       "    <tr>\n",
       "      <th>9941</th>\n",
       "      <td>0</td>\n",
       "      <td>226.256153</td>\n",
       "      <td>5.668337</td>\n",
       "      <td>8.943690</td>\n",
       "      <td>306.249479</td>\n",
       "    </tr>\n",
       "    <tr>\n",
       "      <th>9273</th>\n",
       "      <td>0</td>\n",
       "      <td>209.412818</td>\n",
       "      <td>6.153197</td>\n",
       "      <td>2.151762</td>\n",
       "      <td>221.189072</td>\n",
       "    </tr>\n",
       "    <tr>\n",
       "      <th>3436</th>\n",
       "      <td>0</td>\n",
       "      <td>210.505332</td>\n",
       "      <td>5.628686</td>\n",
       "      <td>1.789597</td>\n",
       "      <td>352.589931</td>\n",
       "    </tr>\n",
       "    <tr>\n",
       "      <th>3148</th>\n",
       "      <td>0</td>\n",
       "      <td>187.137614</td>\n",
       "      <td>5.508756</td>\n",
       "      <td>5.170549</td>\n",
       "      <td>164.313106</td>\n",
       "    </tr>\n",
       "  </tbody>\n",
       "</table>\n",
       "</div>"
      ],
      "text/plain": [
       "      Straw_ID      Length  Diameter_u   Angle_v     Angle_h\n",
       "7934         0  244.591759    5.601674  4.382738  276.557981\n",
       "9941         0  226.256153    5.668337  8.943690  306.249479\n",
       "3989         0  213.706916    5.711238  2.909898  316.019854\n",
       "2000         0  206.827844    5.145067  2.154378  342.244261\n",
       "992          0  194.398476    5.897586  0.984708  256.664143\n",
       "9941         0  226.256153    5.668337  8.943690  306.249479\n",
       "9273         0  209.412818    6.153197  2.151762  221.189072\n",
       "3436         0  210.505332    5.628686  1.789597  352.589931\n",
       "3148         0  187.137614    5.508756  5.170549  164.313106"
      ]
     },
     "execution_count": 50,
     "metadata": {},
     "output_type": "execute_result"
    }
   ],
   "source": [
    "# Get random straw\n",
    "sections_list = [5, 6, 7, 8, 9, 10, 11] # How many sections in straw can have\n",
    "sections_selected = np.random.choice(sections_list, 1) # Select random sections\n",
    "rnd_straw = straw_simu_df.sample(n=sections_selected, axis='rows', replace=True)\n",
    "print ('Sections: ' + str(sections_selected))\n",
    "print('Straw length: ' + str(rnd_straw['Length'].sum()) + 'mm')\n",
    "rnd_straw"
   ]
  },
  {
   "cell_type": "code",
   "execution_count": 54,
   "metadata": {},
   "outputs": [],
   "source": [
    "def sphere_to_chart(length, betha_xz, alpha_xy):\n",
    "    return length * np.cos(betha_xz) * np.sin(alpha_xy), length * np.cos(betha_xz) * np.cos(alpha_xy), length * np.sin(betha_xz)\n"
   ]
  },
  {
   "cell_type": "code",
   "execution_count": 55,
   "metadata": {},
   "outputs": [
    {
     "name": "stdout",
     "output_type": "stream",
     "text": [
      "198.8527074557725 21.01365429572453 105.31869288330887\n"
     ]
    }
   ],
   "source": [
    "x, y, z = sphere_to_chart(226, 8.94, 306.2)\n",
    "print(x, y, z)"
   ]
  },
  {
   "cell_type": "code",
   "execution_count": null,
   "metadata": {},
   "outputs": [],
   "source": []
  }
 ],
 "metadata": {
  "colab": {
   "authorship_tag": "ABX9TyN2bVsMPitZhPYDYidrGY4b",
   "collapsed_sections": [],
   "include_colab_link": true,
   "provenance": [],
   "toc_visible": true
  },
  "kernelspec": {
   "display_name": "Python 3 (ipykernel)",
   "language": "python",
   "name": "python3"
  },
  "language_info": {
   "codemirror_mode": {
    "name": "ipython",
    "version": 3
   },
   "file_extension": ".py",
   "mimetype": "text/x-python",
   "name": "python",
   "nbconvert_exporter": "python",
   "pygments_lexer": "ipython3",
   "version": "3.10.7"
  }
 },
 "nbformat": 4,
 "nbformat_minor": 4
}
