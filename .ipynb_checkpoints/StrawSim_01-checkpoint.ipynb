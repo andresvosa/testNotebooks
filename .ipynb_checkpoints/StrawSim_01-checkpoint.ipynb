{
 "cells": [
  {
   "cell_type": "markdown",
   "metadata": {
    "colab_type": "text",
    "id": "view-in-github"
   },
   "source": [
    "<a href=\"https://colab.research.google.com/github/andresvosa/testNotebooks/blob/main/StrawSim_01.ipynb\" target=\"_parent\"><img src=\"https://colab.research.google.com/assets/colab-badge.svg\" alt=\"Open In Colab\"/></a>"
   ]
  },
  {
   "cell_type": "code",
   "execution_count": 178,
   "metadata": {
    "id": "UdE5CDuYNJYe"
   },
   "outputs": [],
   "source": [
    "import numpy as np\n",
    "import pandas as pd\n",
    "import matplotlib.pyplot as plt\n"
   ]
  },
  {
   "cell_type": "code",
   "execution_count": 179,
   "metadata": {
    "id": "15B7CTgoisFV"
   },
   "outputs": [
    {
     "data": {
      "text/html": [
       "<div>\n",
       "<style scoped>\n",
       "    .dataframe tbody tr th:only-of-type {\n",
       "        vertical-align: middle;\n",
       "    }\n",
       "\n",
       "    .dataframe tbody tr th {\n",
       "        vertical-align: top;\n",
       "    }\n",
       "\n",
       "    .dataframe thead th {\n",
       "        text-align: right;\n",
       "    }\n",
       "</style>\n",
       "<table border=\"1\" class=\"dataframe\">\n",
       "  <thead>\n",
       "    <tr style=\"text-align: right;\">\n",
       "      <th></th>\n",
       "      <th>Straw_ID</th>\n",
       "      <th>Length</th>\n",
       "      <th>Diameter_u</th>\n",
       "      <th>Angle_v</th>\n",
       "      <th>Angle_h</th>\n",
       "    </tr>\n",
       "  </thead>\n",
       "  <tbody>\n",
       "    <tr>\n",
       "      <th>1</th>\n",
       "      <td>1</td>\n",
       "      <td>150.0</td>\n",
       "      <td>6.08</td>\n",
       "      <td>0.00</td>\n",
       "      <td>0.0</td>\n",
       "    </tr>\n",
       "    <tr>\n",
       "      <th>2</th>\n",
       "      <td>1</td>\n",
       "      <td>155.0</td>\n",
       "      <td>6.19</td>\n",
       "      <td>1.99</td>\n",
       "      <td>NaN</td>\n",
       "    </tr>\n",
       "    <tr>\n",
       "      <th>3</th>\n",
       "      <td>1</td>\n",
       "      <td>190.0</td>\n",
       "      <td>5.74</td>\n",
       "      <td>1.77</td>\n",
       "      <td>NaN</td>\n",
       "    </tr>\n",
       "    <tr>\n",
       "      <th>4</th>\n",
       "      <td>1</td>\n",
       "      <td>228.0</td>\n",
       "      <td>5.33</td>\n",
       "      <td>4.53</td>\n",
       "      <td>NaN</td>\n",
       "    </tr>\n",
       "    <tr>\n",
       "      <th>5</th>\n",
       "      <td>1</td>\n",
       "      <td>215.0</td>\n",
       "      <td>5.20</td>\n",
       "      <td>1.01</td>\n",
       "      <td>NaN</td>\n",
       "    </tr>\n",
       "  </tbody>\n",
       "</table>\n",
       "</div>"
      ],
      "text/plain": [
       "   Straw_ID  Length  Diameter_u  Angle_v  Angle_h\n",
       "1         1   150.0        6.08     0.00      0.0\n",
       "2         1   155.0        6.19     1.99      NaN\n",
       "3         1   190.0        5.74     1.77      NaN\n",
       "4         1   228.0        5.33     4.53      NaN\n",
       "5         1   215.0        5.20     1.01      NaN"
      ]
     },
     "execution_count": 179,
     "metadata": {},
     "output_type": "execute_result"
    }
   ],
   "source": [
    "# Read measured straw data \n",
    "straw_df = pd.read_excel('Straw_Measurements.xlsx')\n",
    "straw_df = straw_df.drop(['Unnamed: 0'], axis=1)\n",
    "straw_df = straw_df.dropna(how='all')\n",
    "straw_df['Straw_ID'] = straw_df['Straw_ID'].astype('int64')\n",
    "straw_df.head()"
   ]
  },
  {
   "cell_type": "code",
   "execution_count": 180,
   "metadata": {},
   "outputs": [
    {
     "name": "stdout",
     "output_type": "stream",
     "text": [
      "<class 'pandas.core.frame.DataFrame'>\n",
      "Int64Index: 32 entries, 1 to 36\n",
      "Data columns (total 5 columns):\n",
      " #   Column      Non-Null Count  Dtype  \n",
      "---  ------      --------------  -----  \n",
      " 0   Straw_ID    32 non-null     int64  \n",
      " 1   Length      32 non-null     float64\n",
      " 2   Diameter_u  32 non-null     float64\n",
      " 3   Angle_v     32 non-null     float64\n",
      " 4   Angle_h     8 non-null      float64\n",
      "dtypes: float64(4), int64(1)\n",
      "memory usage: 1.5 KB\n"
     ]
    }
   ],
   "source": [
    "#straw_df.dtypes\n",
    "straw_df.info()"
   ]
  },
  {
   "cell_type": "code",
   "execution_count": 181,
   "metadata": {},
   "outputs": [
    {
     "data": {
      "text/html": [
       "<div>\n",
       "<style scoped>\n",
       "    .dataframe tbody tr th:only-of-type {\n",
       "        vertical-align: middle;\n",
       "    }\n",
       "\n",
       "    .dataframe tbody tr th {\n",
       "        vertical-align: top;\n",
       "    }\n",
       "\n",
       "    .dataframe thead th {\n",
       "        text-align: right;\n",
       "    }\n",
       "</style>\n",
       "<table border=\"1\" class=\"dataframe\">\n",
       "  <thead>\n",
       "    <tr style=\"text-align: right;\">\n",
       "      <th></th>\n",
       "      <th>count</th>\n",
       "      <th>mean</th>\n",
       "      <th>std</th>\n",
       "      <th>min</th>\n",
       "      <th>25%</th>\n",
       "      <th>50%</th>\n",
       "      <th>75%</th>\n",
       "      <th>max</th>\n",
       "    </tr>\n",
       "  </thead>\n",
       "  <tbody>\n",
       "    <tr>\n",
       "      <th>Straw_ID</th>\n",
       "      <td>32.0</td>\n",
       "      <td>2.906250</td>\n",
       "      <td>1.444888</td>\n",
       "      <td>1.00</td>\n",
       "      <td>2.000</td>\n",
       "      <td>3.000</td>\n",
       "      <td>4.0000</td>\n",
       "      <td>5.00</td>\n",
       "    </tr>\n",
       "    <tr>\n",
       "      <th>Length</th>\n",
       "      <td>32.0</td>\n",
       "      <td>197.531250</td>\n",
       "      <td>39.370846</td>\n",
       "      <td>110.00</td>\n",
       "      <td>170.000</td>\n",
       "      <td>201.500</td>\n",
       "      <td>228.5000</td>\n",
       "      <td>252.00</td>\n",
       "    </tr>\n",
       "    <tr>\n",
       "      <th>Diameter_u</th>\n",
       "      <td>32.0</td>\n",
       "      <td>5.434062</td>\n",
       "      <td>0.649361</td>\n",
       "      <td>4.19</td>\n",
       "      <td>5.055</td>\n",
       "      <td>5.435</td>\n",
       "      <td>6.0000</td>\n",
       "      <td>6.57</td>\n",
       "    </tr>\n",
       "    <tr>\n",
       "      <th>Angle_v</th>\n",
       "      <td>32.0</td>\n",
       "      <td>3.228438</td>\n",
       "      <td>3.446365</td>\n",
       "      <td>0.00</td>\n",
       "      <td>0.000</td>\n",
       "      <td>2.280</td>\n",
       "      <td>4.5075</td>\n",
       "      <td>12.88</td>\n",
       "    </tr>\n",
       "    <tr>\n",
       "      <th>Angle_h</th>\n",
       "      <td>8.0</td>\n",
       "      <td>0.000000</td>\n",
       "      <td>0.000000</td>\n",
       "      <td>0.00</td>\n",
       "      <td>0.000</td>\n",
       "      <td>0.000</td>\n",
       "      <td>0.0000</td>\n",
       "      <td>0.00</td>\n",
       "    </tr>\n",
       "  </tbody>\n",
       "</table>\n",
       "</div>"
      ],
      "text/plain": [
       "            count        mean        std     min      25%      50%       75%  \\\n",
       "Straw_ID     32.0    2.906250   1.444888    1.00    2.000    3.000    4.0000   \n",
       "Length       32.0  197.531250  39.370846  110.00  170.000  201.500  228.5000   \n",
       "Diameter_u   32.0    5.434062   0.649361    4.19    5.055    5.435    6.0000   \n",
       "Angle_v      32.0    3.228438   3.446365    0.00    0.000    2.280    4.5075   \n",
       "Angle_h       8.0    0.000000   0.000000    0.00    0.000    0.000    0.0000   \n",
       "\n",
       "               max  \n",
       "Straw_ID      5.00  \n",
       "Length      252.00  \n",
       "Diameter_u    6.57  \n",
       "Angle_v      12.88  \n",
       "Angle_h       0.00  "
      ]
     },
     "execution_count": 181,
     "metadata": {},
     "output_type": "execute_result"
    }
   ],
   "source": [
    "straw_df.describe().transpose()"
   ]
  },
  {
   "cell_type": "code",
   "execution_count": 182,
   "metadata": {},
   "outputs": [
    {
     "data": {
      "text/plain": [
       "array([[<AxesSubplot: title={'center': 'Length'}>,\n",
       "        <AxesSubplot: title={'center': 'Diameter_u'}>],\n",
       "       [<AxesSubplot: title={'center': 'Angle_v'}>, <AxesSubplot: >]],\n",
       "      dtype=object)"
      ]
     },
     "execution_count": 182,
     "metadata": {},
     "output_type": "execute_result"
    },
    {
     "data": {
      "image/png": "[encoded data removed]",
      "text/plain": [
       "<Figure size 640x480 with 4 Axes>"
      ]
     },
     "metadata": {},
     "output_type": "display_data"
    }
   ],
   "source": [
    "straw_df.hist(column=['Length', 'Diameter_u', 'Angle_v'])"
   ]
  },
  {
   "cell_type": "code",
   "execution_count": 183,
   "metadata": {},
   "outputs": [
    {
     "name": "stdout",
     "output_type": "stream",
     "text": [
      "0.7789023492405533\n",
      "0.02028344221570677\n"
     ]
    },
    {
     "data": {
      "image/png": "[encoded data removed]",
      "text/plain": [
       "<Figure size 640x480 with 1 Axes>"
      ]
     },
     "metadata": {},
     "output_type": "display_data"
    }
   ],
   "source": [
    "# Try to simulate lengths\n",
    "no_of_samples = 10000 # number of samples \n",
    "mu, sigma = 197.531250, 39.370846 #mean and standard deviation\n",
    "lens = np.random.normal(mu, sigma, no_of_samples)\n",
    "# print(lens)\n",
    "print(abs(mu - np.mean(lens)))\n",
    "print(abs(sigma - np.std(lens, ddof=1)))\n",
    "# Drawing distribution\n",
    "count, bins, ignored = plt.hist(lens, 30, density=True)\n",
    "plt.plot(bins, 1/(sigma * np.sqrt(2 * np.pi)) *\n",
    "               np.exp( - (bins - mu)**2 / (2 * sigma**2) ),\n",
    "         linewidth=2, color='r')\n",
    "plt.grid()\n",
    "plt.show()"
   ]
  },
  {
   "cell_type": "code",
   "execution_count": 184,
   "metadata": {},
   "outputs": [
    {
     "name": "stdout",
     "output_type": "stream",
     "text": [
      "0.010176088144789652\n",
      "0.0038912395068754213\n"
     ]
    },
    {
     "data": {
      "image/png": "[encoded data removed]",
      "text/plain": [
       "<Figure size 640x480 with 1 Axes>"
      ]
     },
     "metadata": {},
     "output_type": "display_data"
    }
   ],
   "source": [
    "# Simulating diameters\n",
    "mu_d, sigma_d = 5.434062, 0.649361 #mean and standard deviation\n",
    "diams = np.random.normal(mu_d, sigma_d, no_of_samples)\n",
    "# print(diams)\n",
    "print(abs(mu_d - np.mean(diams)))\n",
    "print(abs(sigma_d - np.std(diams, ddof=1)))\n",
    "# Drawing distribution\n",
    "count, bins, ignored = plt.hist(diams, 30, density=True)\n",
    "plt.plot(bins, 1/(sigma_d * np.sqrt(2 * np.pi)) *\n",
    "               np.exp( - (bins - mu_d)**2 / (2 * sigma_d**2) ),\n",
    "         linewidth=2, color='r')\n",
    "plt.grid()\n",
    "plt.show()"
   ]
  },
  {
   "cell_type": "code",
   "execution_count": 185,
   "metadata": {},
   "outputs": [
    {
     "name": "stdout",
     "output_type": "stream",
     "text": [
      "0.03662340622984095\n",
      "0.026147368293850892\n"
     ]
    },
    {
     "data": {
      "image/png": "[encoded data removed]",
      "text/plain": [
       "<Figure size 640x480 with 1 Axes>"
      ]
     },
     "metadata": {},
     "output_type": "display_data"
    }
   ],
   "source": [
    "# Simulating vertical angles\n",
    "mu_v, sigma_v = 3.228438, 3.446365 #mean and standard deviation\n",
    "v_angles = np.random.normal(mu_v, sigma_v, no_of_samples)\n",
    "# print(v_angles)\n",
    "print(abs(mu_v - np.mean(v_angles)))\n",
    "print(abs(sigma_v - np.std(v_angles, ddof=1)))\n",
    "# Drawing distribution\n",
    "count, bins, ignored = plt.hist(v_angles, 30, density=True)\n",
    "plt.plot(bins, 1/(sigma_v * np.sqrt(2 * np.pi)) *\n",
    "               np.exp( - (bins - mu_v)**2 / (2 * sigma_v**2) ),\n",
    "         linewidth=2, color='r')\n",
    "plt.grid()\n",
    "plt.show()"
   ]
  },
  {
   "cell_type": "code",
   "execution_count": 186,
   "metadata": {},
   "outputs": [
    {
     "data": {
      "image/png": "[encoded data removed]",
      "text/plain": [
       "<Figure size 640x480 with 1 Axes>"
      ]
     },
     "metadata": {},
     "output_type": "display_data"
    }
   ],
   "source": [
    "# Simulating horisontal angles\n",
    "mu_h, sigma_h = 3.228438, 3.446365 #mean and standard deviation\n",
    "h_angles = np.random.normal(mu_h, sigma_h, no_of_samples)\n",
    "#low, high = 0.0, 360.0\n",
    "#h_angles = np.random.uniform(low, high, no_of_samples)\n",
    "# print(h_angles)\n",
    "# Drawing distribution\n",
    "count, bins, ignored = plt.hist(h_angles, 30, density=True)\n",
    "plt.plot(bins, 1/(sigma_h * np.sqrt(2 * np.pi)) *\n",
    "               np.exp( - (bins - mu_h)**2 / (2 * sigma_h**2) ),\n",
    "         linewidth=2, color='r')\n",
    "plt.grid()\n",
    "plt.show()"
   ]
  },
  {
   "cell_type": "code",
   "execution_count": 187,
   "metadata": {},
   "outputs": [
    {
     "data": {
      "text/html": [
       "<div>\n",
       "<style scoped>\n",
       "    .dataframe tbody tr th:only-of-type {\n",
       "        vertical-align: middle;\n",
       "    }\n",
       "\n",
       "    .dataframe tbody tr th {\n",
       "        vertical-align: top;\n",
       "    }\n",
       "\n",
       "    .dataframe thead th {\n",
       "        text-align: right;\n",
       "    }\n",
       "</style>\n",
       "<table border=\"1\" class=\"dataframe\">\n",
       "  <thead>\n",
       "    <tr style=\"text-align: right;\">\n",
       "      <th></th>\n",
       "      <th>Straw_ID</th>\n",
       "      <th>Length</th>\n",
       "      <th>Diameter_u</th>\n",
       "      <th>Angle_v</th>\n",
       "      <th>Angle_h</th>\n",
       "    </tr>\n",
       "  </thead>\n",
       "  <tbody>\n",
       "    <tr>\n",
       "      <th>0</th>\n",
       "      <td>0</td>\n",
       "      <td>190.119316</td>\n",
       "      <td>5.133502</td>\n",
       "      <td>0.947922</td>\n",
       "      <td>2.345013</td>\n",
       "    </tr>\n",
       "    <tr>\n",
       "      <th>1</th>\n",
       "      <td>0</td>\n",
       "      <td>189.539152</td>\n",
       "      <td>5.562928</td>\n",
       "      <td>0.633601</td>\n",
       "      <td>-1.816461</td>\n",
       "    </tr>\n",
       "    <tr>\n",
       "      <th>2</th>\n",
       "      <td>0</td>\n",
       "      <td>210.787642</td>\n",
       "      <td>6.878999</td>\n",
       "      <td>0.649889</td>\n",
       "      <td>6.654796</td>\n",
       "    </tr>\n",
       "    <tr>\n",
       "      <th>3</th>\n",
       "      <td>0</td>\n",
       "      <td>211.795314</td>\n",
       "      <td>6.309357</td>\n",
       "      <td>6.680083</td>\n",
       "      <td>2.521814</td>\n",
       "    </tr>\n",
       "    <tr>\n",
       "      <th>4</th>\n",
       "      <td>0</td>\n",
       "      <td>125.949105</td>\n",
       "      <td>5.511447</td>\n",
       "      <td>1.275730</td>\n",
       "      <td>8.355938</td>\n",
       "    </tr>\n",
       "  </tbody>\n",
       "</table>\n",
       "</div>"
      ],
      "text/plain": [
       "   Straw_ID      Length  Diameter_u   Angle_v   Angle_h\n",
       "0         0  190.119316    5.133502  0.947922  2.345013\n",
       "1         0  189.539152    5.562928  0.633601 -1.816461\n",
       "2         0  210.787642    6.878999  0.649889  6.654796\n",
       "3         0  211.795314    6.309357  6.680083  2.521814\n",
       "4         0  125.949105    5.511447  1.275730  8.355938"
      ]
     },
     "execution_count": 187,
     "metadata": {},
     "output_type": "execute_result"
    }
   ],
   "source": [
    "# Creating simulated straw dataframe\n",
    "id_zeros = np.zeros(no_of_samples, dtype='int64')\n",
    "#simu_array = np.stack((id_zeros, lens, diams, v_angles, h_angles), axis=1)\n",
    "column_names = straw_df.columns.to_list()\n",
    "#straw_simu_df = pd.DataFrame(simu_array, column_names)\n",
    "straw_simu_df = pd.DataFrame({column_names[0]: id_zeros.tolist(), \n",
    "                              column_names[1]:  lens.tolist(),\n",
    "                              column_names[2]:  diams.tolist(),\n",
    "                              column_names[3]:  np.abs(v_angles).tolist(),\n",
    "                              column_names[4]:  h_angles.tolist()})\n",
    "straw_simu_df.head()"
   ]
  },
  {
   "cell_type": "code",
   "execution_count": 188,
   "metadata": {},
   "outputs": [
    {
     "name": "stdout",
     "output_type": "stream",
     "text": [
      "Sections: [9]\n",
      "Straw length: 1925.5602899570072mm\n"
     ]
    },
    {
     "data": {
      "text/html": [
       "<div>\n",
       "<style scoped>\n",
       "    .dataframe tbody tr th:only-of-type {\n",
       "        vertical-align: middle;\n",
       "    }\n",
       "\n",
       "    .dataframe tbody tr th {\n",
       "        vertical-align: top;\n",
       "    }\n",
       "\n",
       "    .dataframe thead th {\n",
       "        text-align: right;\n",
       "    }\n",
       "</style>\n",
       "<table border=\"1\" class=\"dataframe\">\n",
       "  <thead>\n",
       "    <tr style=\"text-align: right;\">\n",
       "      <th></th>\n",
       "      <th>Straw_ID</th>\n",
       "      <th>Length</th>\n",
       "      <th>Diameter_u</th>\n",
       "      <th>Angle_v</th>\n",
       "      <th>Angle_h</th>\n",
       "    </tr>\n",
       "  </thead>\n",
       "  <tbody>\n",
       "    <tr>\n",
       "      <th>2441</th>\n",
       "      <td>0</td>\n",
       "      <td>176.323243</td>\n",
       "      <td>5.087556</td>\n",
       "      <td>0.000000</td>\n",
       "      <td>0.000000</td>\n",
       "    </tr>\n",
       "    <tr>\n",
       "      <th>5346</th>\n",
       "      <td>0</td>\n",
       "      <td>228.464749</td>\n",
       "      <td>5.607591</td>\n",
       "      <td>2.568999</td>\n",
       "      <td>7.864186</td>\n",
       "    </tr>\n",
       "    <tr>\n",
       "      <th>6835</th>\n",
       "      <td>0</td>\n",
       "      <td>205.438653</td>\n",
       "      <td>6.492585</td>\n",
       "      <td>6.594537</td>\n",
       "      <td>0.743901</td>\n",
       "    </tr>\n",
       "    <tr>\n",
       "      <th>2503</th>\n",
       "      <td>0</td>\n",
       "      <td>232.334317</td>\n",
       "      <td>5.830132</td>\n",
       "      <td>4.584640</td>\n",
       "      <td>0.452639</td>\n",
       "    </tr>\n",
       "    <tr>\n",
       "      <th>5040</th>\n",
       "      <td>0</td>\n",
       "      <td>218.552649</td>\n",
       "      <td>5.278074</td>\n",
       "      <td>3.516411</td>\n",
       "      <td>0.332084</td>\n",
       "    </tr>\n",
       "    <tr>\n",
       "      <th>1400</th>\n",
       "      <td>0</td>\n",
       "      <td>217.225608</td>\n",
       "      <td>5.764701</td>\n",
       "      <td>3.463205</td>\n",
       "      <td>8.307716</td>\n",
       "    </tr>\n",
       "    <tr>\n",
       "      <th>6420</th>\n",
       "      <td>0</td>\n",
       "      <td>238.268844</td>\n",
       "      <td>5.300831</td>\n",
       "      <td>1.039215</td>\n",
       "      <td>12.469337</td>\n",
       "    </tr>\n",
       "    <tr>\n",
       "      <th>5198</th>\n",
       "      <td>0</td>\n",
       "      <td>208.970249</td>\n",
       "      <td>4.726250</td>\n",
       "      <td>1.802102</td>\n",
       "      <td>7.800389</td>\n",
       "    </tr>\n",
       "    <tr>\n",
       "      <th>9349</th>\n",
       "      <td>0</td>\n",
       "      <td>199.981978</td>\n",
       "      <td>5.621355</td>\n",
       "      <td>10.107310</td>\n",
       "      <td>-0.079409</td>\n",
       "    </tr>\n",
       "  </tbody>\n",
       "</table>\n",
       "</div>"
      ],
      "text/plain": [
       "      Straw_ID      Length  Diameter_u    Angle_v    Angle_h\n",
       "2441         0  176.323243    5.087556   0.000000   0.000000\n",
       "5346         0  228.464749    5.607591   2.568999   7.864186\n",
       "6835         0  205.438653    6.492585   6.594537   0.743901\n",
       "2503         0  232.334317    5.830132   4.584640   0.452639\n",
       "5040         0  218.552649    5.278074   3.516411   0.332084\n",
       "1400         0  217.225608    5.764701   3.463205   8.307716\n",
       "6420         0  238.268844    5.300831   1.039215  12.469337\n",
       "5198         0  208.970249    4.726250   1.802102   7.800389\n",
       "9349         0  199.981978    5.621355  10.107310  -0.079409"
      ]
     },
     "execution_count": 188,
     "metadata": {},
     "output_type": "execute_result"
    }
   ],
   "source": [
    "# Get random straw from simulated straw dataframe\n",
    "sections_list = [5, 6, 7, 8, 9, 10, 11] # How many sections in straw can have\n",
    "sections_selected = np.random.choice(sections_list, 1) # Select random sections\n",
    "rnd_straw = straw_simu_df.sample(n=sections_selected, axis='rows', replace=True)\n",
    "rnd_straw.iloc[0, -1] = 0.0 # First length angles are 0\n",
    "rnd_straw.iloc[0, -2] = 0.0\n",
    "print ('Sections: ' + str(sections_selected))\n",
    "print('Straw length: ' + str(rnd_straw['Length'].sum()) + 'mm')\n",
    "rnd_straw"
   ]
  },
  {
   "cell_type": "code",
   "execution_count": 189,
   "metadata": {},
   "outputs": [],
   "source": [
    "# Functions to calculate end point coordinates\n",
    "def sphere_to_chart(length : float, betha_xz : float, alpha_xy : float, x_st : float=0.0, y_st : float=0.0, z_st : float=0.0) -> float:\n",
    "    betha_xz_rad = np.deg2rad(betha_xz)\n",
    "    alpha_xy_rad = np.deg2rad(90.0 - alpha_xy)\n",
    "    return x_st + (length * np.cos(betha_xz_rad) * np.sin(alpha_xy_rad)), y_st + (length * np.cos(betha_xz_rad) * np.cos(alpha_xy_rad)), z_st + (length * np.sin(betha_xz_rad))\n",
    "\n",
    "def apply_wrapper(x):\n",
    "    return sphere_to_chart(x['Length'], x['Angle_v'], x['Angle_h'])\n"
   ]
  },
  {
   "cell_type": "code",
   "execution_count": 190,
   "metadata": {},
   "outputs": [
    {
     "data": {
      "text/html": [
       "<div>\n",
       "<style scoped>\n",
       "    .dataframe tbody tr th:only-of-type {\n",
       "        vertical-align: middle;\n",
       "    }\n",
       "\n",
       "    .dataframe tbody tr th {\n",
       "        vertical-align: top;\n",
       "    }\n",
       "\n",
       "    .dataframe thead th {\n",
       "        text-align: right;\n",
       "    }\n",
       "</style>\n",
       "<table border=\"1\" class=\"dataframe\">\n",
       "  <thead>\n",
       "    <tr style=\"text-align: right;\">\n",
       "      <th></th>\n",
       "      <th>Straw_ID</th>\n",
       "      <th>Length</th>\n",
       "      <th>Diameter_u</th>\n",
       "      <th>Angle_v</th>\n",
       "      <th>Angle_h</th>\n",
       "      <th>x</th>\n",
       "      <th>y</th>\n",
       "      <th>z</th>\n",
       "    </tr>\n",
       "  </thead>\n",
       "  <tbody>\n",
       "    <tr>\n",
       "      <th>2441</th>\n",
       "      <td>0</td>\n",
       "      <td>176.323243</td>\n",
       "      <td>5.087556</td>\n",
       "      <td>0.000000</td>\n",
       "      <td>0.000000</td>\n",
       "      <td>176.323243</td>\n",
       "      <td>1.079668e-14</td>\n",
       "      <td>0.000000</td>\n",
       "    </tr>\n",
       "    <tr>\n",
       "      <th>5346</th>\n",
       "      <td>0</td>\n",
       "      <td>228.464749</td>\n",
       "      <td>5.607591</td>\n",
       "      <td>2.568999</td>\n",
       "      <td>7.864186</td>\n",
       "      <td>226.088625</td>\n",
       "      <td>3.122836e+01</td>\n",
       "      <td>10.240353</td>\n",
       "    </tr>\n",
       "    <tr>\n",
       "      <th>6835</th>\n",
       "      <td>0</td>\n",
       "      <td>205.438653</td>\n",
       "      <td>6.492585</td>\n",
       "      <td>6.594537</td>\n",
       "      <td>0.743901</td>\n",
       "      <td>204.062212</td>\n",
       "      <td>2.649594e+00</td>\n",
       "      <td>23.593074</td>\n",
       "    </tr>\n",
       "    <tr>\n",
       "      <th>2503</th>\n",
       "      <td>0</td>\n",
       "      <td>232.334317</td>\n",
       "      <td>5.830132</td>\n",
       "      <td>4.584640</td>\n",
       "      <td>0.452639</td>\n",
       "      <td>231.583700</td>\n",
       "      <td>1.829557e+00</td>\n",
       "      <td>18.570878</td>\n",
       "    </tr>\n",
       "    <tr>\n",
       "      <th>5040</th>\n",
       "      <td>0</td>\n",
       "      <td>218.552649</td>\n",
       "      <td>5.278074</td>\n",
       "      <td>3.516411</td>\n",
       "      <td>0.332084</td>\n",
       "      <td>218.137509</td>\n",
       "      <td>1.264329e+00</td>\n",
       "      <td>13.404803</td>\n",
       "    </tr>\n",
       "    <tr>\n",
       "      <th>1400</th>\n",
       "      <td>0</td>\n",
       "      <td>217.225608</td>\n",
       "      <td>5.764701</td>\n",
       "      <td>3.463205</td>\n",
       "      <td>8.307716</td>\n",
       "      <td>214.553581</td>\n",
       "      <td>3.132949e+01</td>\n",
       "      <td>13.122064</td>\n",
       "    </tr>\n",
       "    <tr>\n",
       "      <th>6420</th>\n",
       "      <td>0</td>\n",
       "      <td>238.268844</td>\n",
       "      <td>5.300831</td>\n",
       "      <td>1.039215</td>\n",
       "      <td>12.469337</td>\n",
       "      <td>232.610221</td>\n",
       "      <td>5.143785e+01</td>\n",
       "      <td>4.321417</td>\n",
       "    </tr>\n",
       "    <tr>\n",
       "      <th>5198</th>\n",
       "      <td>0</td>\n",
       "      <td>208.970249</td>\n",
       "      <td>4.726250</td>\n",
       "      <td>1.802102</td>\n",
       "      <td>7.800389</td>\n",
       "      <td>206.934232</td>\n",
       "      <td>2.834790e+01</td>\n",
       "      <td>6.571577</td>\n",
       "    </tr>\n",
       "    <tr>\n",
       "      <th>9349</th>\n",
       "      <td>0</td>\n",
       "      <td>199.981978</td>\n",
       "      <td>5.621355</td>\n",
       "      <td>10.107310</td>\n",
       "      <td>-0.079409</td>\n",
       "      <td>196.878228</td>\n",
       "      <td>-2.728639e-01</td>\n",
       "      <td>35.095304</td>\n",
       "    </tr>\n",
       "  </tbody>\n",
       "</table>\n",
       "</div>"
      ],
      "text/plain": [
       "      Straw_ID      Length  Diameter_u    Angle_v    Angle_h           x  \\\n",
       "2441         0  176.323243    5.087556   0.000000   0.000000  176.323243   \n",
       "5346         0  228.464749    5.607591   2.568999   7.864186  226.088625   \n",
       "6835         0  205.438653    6.492585   6.594537   0.743901  204.062212   \n",
       "2503         0  232.334317    5.830132   4.584640   0.452639  231.583700   \n",
       "5040         0  218.552649    5.278074   3.516411   0.332084  218.137509   \n",
       "1400         0  217.225608    5.764701   3.463205   8.307716  214.553581   \n",
       "6420         0  238.268844    5.300831   1.039215  12.469337  232.610221   \n",
       "5198         0  208.970249    4.726250   1.802102   7.800389  206.934232   \n",
       "9349         0  199.981978    5.621355  10.107310  -0.079409  196.878228   \n",
       "\n",
       "                 y          z  \n",
       "2441  1.079668e-14   0.000000  \n",
       "5346  3.122836e+01  10.240353  \n",
       "6835  2.649594e+00  23.593074  \n",
       "2503  1.829557e+00  18.570878  \n",
       "5040  1.264329e+00  13.404803  \n",
       "1400  3.132949e+01  13.122064  \n",
       "6420  5.143785e+01   4.321417  \n",
       "5198  2.834790e+01   6.571577  \n",
       "9349 -2.728639e-01  35.095304  "
      ]
     },
     "execution_count": 190,
     "metadata": {},
     "output_type": "execute_result"
    }
   ],
   "source": [
    "# print(rnd_straw.apply(apply_wrapper, axis=1, result_type=\"expand\"))\n",
    "rnd_straw[['x', 'y', 'z']] = rnd_straw.apply(apply_wrapper, axis=1, result_type=\"expand\")\n",
    "rnd_straw"
   ]
  },
  {
   "cell_type": "code",
   "execution_count": 191,
   "metadata": {},
   "outputs": [],
   "source": [
    "def vec_len_3d (x : float, y : float, z: float) -> float:\n",
    "    return np.sqrt(x**2 + y**2 + z**2)\n",
    "\n",
    "def test_shift(x):\n",
    "    print(x, type(x))"
   ]
  },
  {
   "cell_type": "code",
   "execution_count": 192,
   "metadata": {},
   "outputs": [
    {
     "name": "stdout",
     "output_type": "stream",
     "text": [
      "219.3100342688166 9.953801125613124 14.994419855540198\n",
      "220.047272\n",
      "219.3100342688166 14.978999647168285 9.976991190865473\n",
      "220.047272\n"
     ]
    }
   ],
   "source": [
    "x, y, z = sphere_to_chart(220.047272, 3.907266,\t2.598694)\n",
    "print(x, y, z)\n",
    "print(vec_len_3d(x, y, z))\n",
    "x, y, z = sphere_to_chart(220.047272, 2.598694, 3.907266,)\n",
    "print(x, y, z)\n",
    "print(vec_len_3d(x, y, z))"
   ]
  },
  {
   "cell_type": "code",
   "execution_count": 193,
   "metadata": {},
   "outputs": [
    {
     "name": "stdout",
     "output_type": "stream",
     "text": [
      "Straw_ID      0.000000e+00\n",
      "Length        1.763232e+02\n",
      "Diameter_u    5.087556e+00\n",
      "Angle_v       0.000000e+00\n",
      "Angle_h       0.000000e+00\n",
      "x             1.763232e+02\n",
      "y             1.079668e-14\n",
      "z             0.000000e+00\n",
      "Name: 2441, dtype: float64 <class 'pandas.core.series.Series'>\n",
      "Straw_ID        0.000000\n",
      "Length        228.464749\n",
      "Diameter_u      5.607591\n",
      "Angle_v         2.568999\n",
      "Angle_h         7.864186\n",
      "x             226.088625\n",
      "y              31.228358\n",
      "z              10.240353\n",
      "Name: 5346, dtype: float64 <class 'pandas.core.series.Series'>\n",
      "Straw_ID        0.000000\n",
      "Length        205.438653\n",
      "Diameter_u      6.492585\n",
      "Angle_v         6.594537\n",
      "Angle_h         0.743901\n",
      "x             204.062212\n",
      "y               2.649594\n",
      "z              23.593074\n",
      "Name: 6835, dtype: float64 <class 'pandas.core.series.Series'>\n",
      "Straw_ID        0.000000\n",
      "Length        232.334317\n",
      "Diameter_u      5.830132\n",
      "Angle_v         4.584640\n",
      "Angle_h         0.452639\n",
      "x             231.583700\n",
      "y               1.829557\n",
      "z              18.570878\n",
      "Name: 2503, dtype: float64 <class 'pandas.core.series.Series'>\n",
      "Straw_ID        0.000000\n",
      "Length        218.552649\n",
      "Diameter_u      5.278074\n",
      "Angle_v         3.516411\n",
      "Angle_h         0.332084\n",
      "x             218.137509\n",
      "y               1.264329\n",
      "z              13.404803\n",
      "Name: 5040, dtype: float64 <class 'pandas.core.series.Series'>\n",
      "Straw_ID        0.000000\n",
      "Length        217.225608\n",
      "Diameter_u      5.764701\n",
      "Angle_v         3.463205\n",
      "Angle_h         8.307716\n",
      "x             214.553581\n",
      "y              31.329492\n",
      "z              13.122064\n",
      "Name: 1400, dtype: float64 <class 'pandas.core.series.Series'>\n",
      "Straw_ID        0.000000\n",
      "Length        238.268844\n",
      "Diameter_u      5.300831\n",
      "Angle_v         1.039215\n",
      "Angle_h        12.469337\n",
      "x             232.610221\n",
      "y              51.437854\n",
      "z               4.321417\n",
      "Name: 6420, dtype: float64 <class 'pandas.core.series.Series'>\n",
      "Straw_ID        0.000000\n",
      "Length        208.970249\n",
      "Diameter_u      4.726250\n",
      "Angle_v         1.802102\n",
      "Angle_h         7.800389\n",
      "x             206.934232\n",
      "y              28.347896\n",
      "z               6.571577\n",
      "Name: 5198, dtype: float64 <class 'pandas.core.series.Series'>\n",
      "Straw_ID        0.000000\n",
      "Length        199.981978\n",
      "Diameter_u      5.621355\n",
      "Angle_v        10.107310\n",
      "Angle_h        -0.079409\n",
      "x             196.878228\n",
      "y              -0.272864\n",
      "z              35.095304\n",
      "Name: 9349, dtype: float64 <class 'pandas.core.series.Series'>\n"
     ]
    },
    {
     "data": {
      "text/plain": [
       "2441    None\n",
       "5346    None\n",
       "6835    None\n",
       "2503    None\n",
       "5040    None\n",
       "1400    None\n",
       "6420    None\n",
       "5198    None\n",
       "9349    None\n",
       "dtype: object"
      ]
     },
     "execution_count": 193,
     "metadata": {},
     "output_type": "execute_result"
    }
   ],
   "source": [
    "rnd_straw.apply(test_shift, axis=1, result_type=\"expand\")"
   ]
  },
  {
   "cell_type": "code",
   "execution_count": null,
   "metadata": {},
   "outputs": [],
   "source": []
  },
  {
   "cell_type": "code",
   "execution_count": null,
   "metadata": {},
   "outputs": [],
   "source": []
  },
  {
   "cell_type": "code",
   "execution_count": null,
   "metadata": {},
   "outputs": [],
   "source": []
  }
 ],
 "metadata": {
  "colab": {
   "authorship_tag": "ABX9TyN2bVsMPitZhPYDYidrGY4b",
   "collapsed_sections": [],
   "include_colab_link": true,
   "provenance": [],
   "toc_visible": true
  },
  "kernelspec": {
   "display_name": "Python 3 (ipykernel)",
   "language": "python",
   "name": "python3"
  },
  "language_info": {
   "codemirror_mode": {
    "name": "ipython",
    "version": 3
   },
   "file_extension": ".py",
   "mimetype": "text/x-python",
   "name": "python",
   "nbconvert_exporter": "python",
   "pygments_lexer": "ipython3",
   "version": "3.10.7"
  }
 },
 "nbformat": 4,
 "nbformat_minor": 4
}
