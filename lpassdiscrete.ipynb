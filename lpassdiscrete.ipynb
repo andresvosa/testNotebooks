{
  "nbformat": 4,
  "nbformat_minor": 0,
  "metadata": {
    "colab": {
      "provenance": [],
      "collapsed_sections": [],
      "toc_visible": true,
      "authorship_tag": "ABX9TyOu5tV3qzPDDblh5berKKkQ",
      "include_colab_link": true
    },
    "kernelspec": {
      "name": "python3",
      "display_name": "Python 3"
    },
    "language_info": {
      "name": "python"
    }
  },
  "cells": [
    {
      "cell_type": "markdown",
      "metadata": {
        "id": "view-in-github",
        "colab_type": "text"
      },
      "source": [
        "<a href=\"https://colab.research.google.com/github/andresvosa/testNotebooks/blob/main/lpassdiscrete.ipynb\" target=\"_parent\"><img src=\"https://colab.research.google.com/assets/colab-badge.svg\" alt=\"Open In Colab\"/></a>"
      ]
    },
    {
      "cell_type": "code",
      "execution_count": 1,
      "metadata": {
        "id": "IrTV7mtfBKYd"
      },
      "outputs": [],
      "source": [
        "from scipy import signal\n",
        "import numpy as np\n"
      ]
    },
    {
      "cell_type": "code",
      "source": [
        "# Continous transfer function for low pass filter\n",
        "w0 = 2 * np.pi * 5  # Cutting frequency 5Hz\n",
        "num = w0\n",
        "den = [1, w0]\n",
        "lowpass = signal.TransferFunction(num, den)\n",
        "print(lowpass)\n"
      ],
      "metadata": {
        "colab": {
          "base_uri": "https://localhost:8080/"
        },
        "id": "eIO7tdklBbRs",
        "outputId": "c3c93d4b-0a64-4d61-98fe-3d67556eff5f"
      },
      "execution_count": 2,
      "outputs": [
        {
          "output_type": "stream",
          "name": "stdout",
          "text": [
            "TransferFunctionContinuous(\n",
            "array([31.41592654]),\n",
            "array([ 1.        , 31.41592654]),\n",
            "dt: None\n",
            ")\n"
          ]
        }
      ]
    },
    {
      "cell_type": "code",
      "source": [
        "# Discrete transfer function\n",
        "dt = 1.0 / 1000.0 # Timestep 1/fs, fs-sampling frequency\n",
        "disclowpass = lowpass.to_discrete(dt, method='gbt', alpha=0.5)\n",
        "print(disclowpass)\n"
      ],
      "metadata": {
        "colab": {
          "base_uri": "https://localhost:8080/"
        },
        "id": "ei1LPb0VCaWR",
        "outputId": "02df5cda-15c7-4619-c113-6f2b2b92765c"
      },
      "execution_count": 3,
      "outputs": [
        {
          "output_type": "stream",
          "name": "stdout",
          "text": [
            "TransferFunctionDiscrete(\n",
            "array([0.01546504, 0.01546504]),\n",
            "array([ 1.        , -0.96906992]),\n",
            "dt: 0.001\n",
            ")\n"
          ]
        }
      ]
    },
    {
      "cell_type": "code",
      "source": [
        "# Difference equation coefficients\n",
        "b = disclowpass.num\n",
        "a = - disclowpass.den\n",
        "print('filter coefficients bi: ' + str(b))  \n",
        "print('filter coefficients ai: ' + str(a[1:]))\n"
      ],
      "metadata": {
        "colab": {
          "base_uri": "https://localhost:8080/"
        },
        "id": "T0J7RW1YD7UA",
        "outputId": "5ff5e66d-06de-479d-fe10-663ce3249348"
      },
      "execution_count": 4,
      "outputs": [
        {
          "output_type": "stream",
          "name": "stdout",
          "text": [
            "filter coefficients bi: [0.01546504 0.01546504]\n",
            "filter coefficients ai: [0.96906992]\n"
          ]
        }
      ]
    },
    {
      "cell_type": "code",
      "source": [
        "# Y[n] = a1*Y[n-1]+...b0*X[n]+b1*X[n-1]...\n",
        "# Y[n] = 0.969*Y[n-1]+0.0155*X[n]+0.0155*X[n-1]\n",
        "# Y-filtered signal\n",
        "# X-raw signal\n"
      ],
      "metadata": {
        "id": "C3dHRVESFtD-"
      },
      "execution_count": 5,
      "outputs": []
    }
  ]
}