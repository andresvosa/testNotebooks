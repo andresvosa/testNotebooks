{
  "nbformat": 4,
  "nbformat_minor": 0,
  "metadata": {
    "colab": {
      "name": "unit_test_learn.ipynb",
      "provenance": [],
      "collapsed_sections": [],
      "toc_visible": true,
      "authorship_tag": "ABX9TyMimBoJpLi0iGRlAF1TBATg",
      "include_colab_link": true
    },
    "kernelspec": {
      "name": "python3",
      "display_name": "Python 3"
    },
    "language_info": {
      "name": "python"
    }
  },
  "cells": [
    {
      "cell_type": "markdown",
      "metadata": {
        "id": "view-in-github",
        "colab_type": "text"
      },
      "source": [
        "<a href=\"https://colab.research.google.com/github/andresvosa/testNotebooks/blob/main/unit_test_learn.ipynb\" target=\"_parent\"><img src=\"https://colab.research.google.com/assets/colab-badge.svg\" alt=\"Open In Colab\"/></a>"
      ]
    },
    {
      "cell_type": "code",
      "execution_count": 13,
      "metadata": {
        "id": "s9PPFhGh6FI5"
      },
      "outputs": [],
      "source": [
        "import unittest\n",
        "#from power import power_num"
      ]
    },
    {
      "cell_type": "code",
      "source": [
        "\"\"\"\n",
        "The main module. In file power.py\n",
        "\"\"\"\n",
        "\n",
        "def power_num(number: float, power: int) -> float:\n",
        "    \"\"\"\n",
        "    Raise the number to the power if number >= 0.\n",
        "    \"\"\"\n",
        "    # The number can be int or float\n",
        "    if not isinstance(number, int) and not isinstance(number, float):\n",
        "        raise TypeError(\"The number can only be int or float\")\n",
        "    # The power can only be int\n",
        "    if not isinstance(power, int):\n",
        "        raise TypeError(\"The power can only be of int type\")\n",
        "    # If number > 0, we compute the calculation\n",
        "    if number >= 0:\n",
        "        return round(number ** power, 2)\n",
        "    raise TypeError(\"The number can only be >= 0\")\n",
        "    "
      ],
      "metadata": {
        "id": "0b3zkavS-81e"
      },
      "execution_count": 14,
      "outputs": []
    },
    {
      "cell_type": "code",
      "source": [
        "\"\"\"\n",
        "Main module to be tested.\n",
        "\"\"\"\n",
        "\n",
        "def square_preceding(values):\n",
        "    \"\"\" (list of number) -> NoneType\n",
        "\n",
        "    Replace each item in the list with square the value of the \n",
        "    preceding item, and replace the first item with 0.\n",
        "\n",
        "    >>> L = [1, 2, 3]\n",
        "    >>> square_preceding(L)\n",
        "    >>> L\n",
        "    [0, 1, 4]\n",
        "    \"\"\"\n",
        "\n",
        "    if values != []:\n",
        "        temp = values[0]\n",
        "        values[0] = 0\n",
        "    for i in range(1, len(values)):\n",
        "        values[i] = temp ** 2\n",
        "        temp = values[i]\n",
        "        "
      ],
      "metadata": {
        "id": "SvYhyxqZTiUC"
      },
      "execution_count": 15,
      "outputs": []
    },
    {
      "cell_type": "code",
      "source": [
        "\"\"\"\n",
        "Test module for power.py. In file test_power.py\n",
        "\"\"\"\n",
        "\n",
        "class TestPower(unittest.TestCase):\n",
        "    \"\"\"\n",
        "    Test the function power_num from module power.py.\n",
        "    \"\"\"\n",
        "    def test_power_int(self):\n",
        "        self.assertEqual(power_num(2, 3), 8)\n",
        "\n",
        "    def test_power_float(self):\n",
        "        self.assertEqual(power_num(1.5, 2), 2.25)\n",
        "\n",
        "    def test_for_list_as_number(self):\n",
        "        with self.assertRaises(TypeError):\n",
        "            power_num([], 2)\n",
        "\n",
        "    def test_for_float_as_power(self):\n",
        "        with self.assertRaises(TypeError):\n",
        "            power_num(6, 2.2)\n",
        "    \n",
        "    def test_for_negative_numbers(self):\n",
        "        with self.assertRaises(TypeError):\n",
        "            power_num(-6, 2)\n",
        "    \n",
        "    def test_for_zero_as_number_and_positive_power(self):\n",
        "        self.assertEqual(power_num(0, 2), 0)\n",
        "    # This gives a failure\n",
        "    def test_for_zero_as_number_and_zero_power(self):\n",
        "        self.assertEqual(power_num(0, 0), 0)\n",
        "    # This gives an error\n",
        "    def test_for_zero_as_number_and_negative_power(self):\n",
        "        with self.assertRaises(ZeroDivisionError):  #(TypeError): See veatüüp on siin vigane\n",
        "            power_num(0, -2)\n",
        "\n",
        "unittest.main(argv=[''], verbosity=3, exit=False)\n",
        "#if __name__ == '__main__': #if not the notebook\n",
        "#    unittest.main()\n"
      ],
      "metadata": {
        "colab": {
          "base_uri": "https://localhost:8080/"
        },
        "id": "24UxPJKx-_oE",
        "outputId": "e797c98d-4f57-445f-bcc3-e1ee3dd5582d"
      },
      "execution_count": 17,
      "outputs": [
        {
          "output_type": "stream",
          "name": "stderr",
          "text": [
            "test_for_float_as_power (__main__.TestPower) ... ok\n",
            "test_for_list_as_number (__main__.TestPower) ... ok\n",
            "test_for_negative_numbers (__main__.TestPower) ... ok\n",
            "test_for_zero_as_number_and_negative_power (__main__.TestPower) ... ok\n",
            "test_for_zero_as_number_and_positive_power (__main__.TestPower) ... ok\n",
            "test_for_zero_as_number_and_zero_power (__main__.TestPower) ... FAIL\n",
            "test_power_float (__main__.TestPower) ... ok\n",
            "test_power_int (__main__.TestPower) ... ok\n",
            "\n",
            "======================================================================\n",
            "FAIL: test_for_zero_as_number_and_zero_power (__main__.TestPower)\n",
            "----------------------------------------------------------------------\n",
            "Traceback (most recent call last):\n",
            "  File \"<ipython-input-17-994fb14ea7b7>\", line 31, in test_for_zero_as_number_and_zero_power\n",
            "    self.assertEqual(power_num(0, 0), 0)\n",
            "AssertionError: 1 != 0\n",
            "\n",
            "----------------------------------------------------------------------\n",
            "Ran 8 tests in 0.015s\n",
            "\n",
            "FAILED (failures=1)\n"
          ]
        },
        {
          "output_type": "execute_result",
          "data": {
            "text/plain": [
              "<unittest.main.TestProgram at 0x7f2bff87af10>"
            ]
          },
          "metadata": {},
          "execution_count": 17
        }
      ]
    }
  ]
}